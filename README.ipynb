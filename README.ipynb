{
 "cells": [
  {
   "cell_type": "markdown",
   "metadata": {},
   "source": [
    "## Изучаем Python\n",
    "### Оглавление\n",
    "\n",
    "1. [Переменные](data_type/variables.ipynb)\n",
    "\n",
    "2.  Типы данных в Python\n",
    "\n",
    "    1.  [Неопределенное значение (None)](data_type/none.ipynb)\n",
    "\n",
    "    2.  [Логические (bool)](data_type/bool.ipynb)\n",
    "        \n",
    "        1. [Операторы сравнения](data_type/bool.ipynb#s1)\n",
    "        \n",
    "        2. [Логические операторы](data_type/bool.ipynb#s2)\n",
    "\n",
    "    3.  [Числа](data_type/num.ipynb)\n",
    "\n",
    "    4.  [Строки (str)](data_type/str.ipynb)\n",
    "\n",
    "    5.  [Списки (list)](data_type/list.ipynb)\n",
    "\n",
    "    6.  [Кортежи (tuple)](data_type/tuple.ipynb)\n",
    "\n",
    "    7.  [Множества (set)](data_type/set.ipynb)\n",
    "\n",
    "    8.  [Словари (dict)](data_type/dict.ipynb)\n",
    "\n",
    "    9.  [Диапазон (range)](data_type/range.ipynb)\n",
    "\n",
    "    10. [Бинарные (binary)](data_type/binary.ipynb)\n",
    "\n",
    "3.  [Операторы Python](operators/operators.ipynb)"
   ]
  }
 ],
 "metadata": {
  "kernelspec": {
   "display_name": "Python 3",
   "language": "python",
   "name": "python3"
  },
  "language_info": {
   "codemirror_mode": {
    "name": "ipython",
    "version": 3
   },
   "file_extension": ".py",
   "mimetype": "text/x-python",
   "name": "python",
   "nbconvert_exporter": "python",
   "pygments_lexer": "ipython3",
   "version": "3.7.4"
  }
 },
 "nbformat": 4,
 "nbformat_minor": 2
}
