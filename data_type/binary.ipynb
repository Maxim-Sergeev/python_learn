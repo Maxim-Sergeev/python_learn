{
 "cells": [
  {
   "cell_type": "markdown",
   "metadata": {},
   "source": [
    "# Бинарные\n",
    "## Создание бинарных строк"
   ]
  },
  {
   "cell_type": "code",
   "execution_count": 4,
   "metadata": {},
   "outputs": [
    {
     "name": "stdout",
     "output_type": "stream",
     "text": [
      "b'bytes'\n",
      "b'\\xd0\\x91\\xd0\\xb0\\xd0\\xb9\\xd1\\x82\\xd1\\x8b'\n",
      "b'bytes'\n",
      "b'2dLH)'\n",
      "d\n"
     ]
    }
   ],
   "source": [
    "print (b'bytes')\n",
    "print ('Байты'.encode('utf-8'))\n",
    "print (bytes('bytes', encoding = 'utf-8'))\n",
    "print (bytes([50, 100, 76, 72, 41]))\n",
    "print (chr(100))"
   ]
  },
  {
   "cell_type": "code",
   "execution_count": null,
   "metadata": {},
   "outputs": [],
   "source": []
  }
 ],
 "metadata": {
  "kernelspec": {
   "display_name": "Python 3",
   "language": "python",
   "name": "python3"
  },
  "language_info": {
   "codemirror_mode": {
    "name": "ipython",
    "version": 3
   },
   "file_extension": ".py",
   "mimetype": "text/x-python",
   "name": "python",
   "nbconvert_exporter": "python",
   "pygments_lexer": "ipython3",
   "version": "3.7.4"
  }
 },
 "nbformat": 4,
 "nbformat_minor": 2
}
