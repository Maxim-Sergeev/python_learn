{
 "cells": [
  {
   "cell_type": "markdown",
   "metadata": {},
   "source": [
    "# Множества (set)\n",
    "Множество в python - \"контейнер\", содержащий не повторяющиеся элементы в случайном порядке.\n",
    "## Создание множества"
   ]
  },
  {
   "cell_type": "code",
   "execution_count": 1,
   "metadata": {},
   "outputs": [
    {
     "data": {
      "text/plain": [
       "{'a', 'b', 'c', 'd', 'e', 'f'}"
      ]
     },
     "execution_count": 1,
     "metadata": {},
     "output_type": "execute_result"
    }
   ],
   "source": [
    "st = set ('abcdef')\n",
    "st"
   ]
  },
  {
   "cell_type": "code",
   "execution_count": 2,
   "metadata": {},
   "outputs": [
    {
     "data": {
      "text/plain": [
       "{'a', 'b', 'c', 'd', 'e', 'f'}"
      ]
     },
     "execution_count": 2,
     "metadata": {},
     "output_type": "execute_result"
    }
   ],
   "source": [
    "st = {'a', 'b', 'c', 'd', 'e', 'f'}\n",
    "st"
   ]
  },
  {
   "cell_type": "code",
   "execution_count": 3,
   "metadata": {},
   "outputs": [
    {
     "data": {
      "text/plain": [
       "{0, 1, 4, 9, 16, 25, 36, 49, 64, 81}"
      ]
     },
     "execution_count": 3,
     "metadata": {},
     "output_type": "execute_result"
    }
   ],
   "source": [
    "st = {x ** 2 for x in range(10)}\n",
    "st"
   ]
  },
  {
   "cell_type": "code",
   "execution_count": 4,
   "metadata": {},
   "outputs": [
    {
     "data": {
      "text/plain": [
       "{'lll', 'sss', 'ttt'}"
      ]
     },
     "execution_count": 4,
     "metadata": {},
     "output_type": "execute_result"
    }
   ],
   "source": [
    "st = {x * 3 for x in 'list' if x != 'i'}\n",
    "st"
   ]
  },
  {
   "cell_type": "code",
   "execution_count": 5,
   "metadata": {},
   "outputs": [
    {
     "data": {
      "text/plain": [
       "{(1, 2, 3), 1.0, 'Hello'}"
      ]
     },
     "execution_count": 5,
     "metadata": {},
     "output_type": "execute_result"
    }
   ],
   "source": [
    "# Множество значений разный типов\n",
    "st = {1.0, \"Hello\", (1, 2, 3)}\n",
    "st"
   ]
  },
  {
   "cell_type": "code",
   "execution_count": 6,
   "metadata": {},
   "outputs": [
    {
     "ename": "TypeError",
     "evalue": "unhashable type: 'list'",
     "output_type": "error",
     "traceback": [
      "\u001b[1;31m---------------------------------------------------------------------------\u001b[0m",
      "\u001b[1;31mTypeError\u001b[0m                                 Traceback (most recent call last)",
      "\u001b[1;32m<ipython-input-6-5b5c240af88e>\u001b[0m in \u001b[0;36m<module>\u001b[1;34m\u001b[0m\n\u001b[0;32m      1\u001b[0m \u001b[1;31m# Множество не может сожержать изменяемых значений, т.е. листов в множестве быть не может\u001b[0m\u001b[1;33m\u001b[0m\u001b[1;33m\u001b[0m\u001b[1;33m\u001b[0m\u001b[0m\n\u001b[1;32m----> 2\u001b[1;33m \u001b[0mst\u001b[0m \u001b[1;33m=\u001b[0m \u001b[1;33m{\u001b[0m\u001b[1;36m1\u001b[0m\u001b[1;33m,\u001b[0m \u001b[1;36m2\u001b[0m\u001b[1;33m,\u001b[0m \u001b[1;33m[\u001b[0m\u001b[1;36m3\u001b[0m\u001b[1;33m,\u001b[0m \u001b[1;36m4\u001b[0m\u001b[1;33m]\u001b[0m\u001b[1;33m}\u001b[0m\u001b[1;33m\u001b[0m\u001b[1;33m\u001b[0m\u001b[0m\n\u001b[0m",
      "\u001b[1;31mTypeError\u001b[0m: unhashable type: 'list'"
     ]
    }
   ],
   "source": [
    "# Множество не может сожержать изменяемых значений, т.е. листов в множестве быть не может\n",
    "st = {1, 2, [3, 4]}"
   ]
  },
  {
   "cell_type": "code",
   "execution_count": 7,
   "metadata": {},
   "outputs": [
    {
     "data": {
      "text/plain": [
       "dict"
      ]
     },
     "execution_count": 7,
     "metadata": {},
     "output_type": "execute_result"
    }
   ],
   "source": [
    "# А так нельзя! Будет создан словарь!\n",
    "st = {}\n",
    "type (st)"
   ]
  },
  {
   "cell_type": "code",
   "execution_count": 8,
   "metadata": {},
   "outputs": [
    {
     "data": {
      "text/plain": [
       "{'ананас', 'банан', 'персик', 'яблоко'}"
      ]
     },
     "execution_count": 8,
     "metadata": {},
     "output_type": "execute_result"
    }
   ],
   "source": [
    "# Множество удобно использовать для удаления повторяющихся элементов\n",
    "lst = ['яблоко', 'банан', 'ананас', 'яблоко', 'персик']\n",
    "st = set(lst)\n",
    "st"
   ]
  },
  {
   "cell_type": "markdown",
   "metadata": {},
   "source": [
    "## Методы работы с множествами\n",
    "| **Метод**          | **Описание**                                                                                                            |\n",
    "|--------------------|-------------------------------------------------------------------------------------------------------------------------------------------------------------------|\n",
    "| set.copy()     | Копия множества                                                                                                     |\n",
    "| set.add()          | Добавляет элемент во вножество                                                                                      |\n",
    "| set.update()       | Добавляет несколько элементов к множеству.                                                                          |\n",
    "| set. clear()   | Удаляет все элементы множества                                                                                      |\n",
    "| set. discard() | Удаляет элемент из множества, если он содержится в нем. Элемента в множестве может не существовать.                 |\n",
    "| set.remove()   | Удаляет элемент из множества, если элемента в множестве нет, то будет ОШИБКА.                                       |\n",
    "| set.pop()      | Удаляет первый элемент множества, т.к. множества не упорядочены, нельзя точно сказать, какой элемент будет первым. Если множество пусто, то возникает ОШИБКА. |\n",
    "| a in b             | Принадлежит ли a множеству b.                                                                                                                                     |\n",
    "\n"
   ]
  },
  {
   "cell_type": "code",
   "execution_count": 9,
   "metadata": {},
   "outputs": [
    {
     "data": {
      "text/plain": [
       "{'a', 'b', 'c'}"
      ]
     },
     "execution_count": 9,
     "metadata": {},
     "output_type": "execute_result"
    }
   ],
   "source": [
    "# Копия множества\n",
    "a = {'a', 'b', 'c'}\n",
    "b = a.copy()\n",
    "b"
   ]
  },
  {
   "cell_type": "code",
   "execution_count": 11,
   "metadata": {},
   "outputs": [
    {
     "data": {
      "text/plain": [
       "{'a', 'b', 'c', 'd'}"
      ]
     },
     "execution_count": 11,
     "metadata": {},
     "output_type": "execute_result"
    }
   ],
   "source": [
    "# Добавляет элемент во вножество\n",
    "a = {'a', 'b', 'c'}\n",
    "a.add('d')\n",
    "a"
   ]
  },
  {
   "cell_type": "code",
   "execution_count": 14,
   "metadata": {},
   "outputs": [
    {
     "name": "stdout",
     "output_type": "stream",
     "text": [
      "{'c', 'e', 'a', 'd', 'b'}\n",
      "{'d', 'e', 'c', 'b', 'a'}\n"
     ]
    }
   ],
   "source": [
    "# Добавление нескольких элементов в множество\n",
    "a = {'a', 'b', 'c'}\n",
    "a.update('d', 'e')\n",
    "print (a)\n",
    "a = {'a', 'b', 'c'}\n",
    "a |= {'d', 'e'}\n",
    "print (a)"
   ]
  },
  {
   "cell_type": "code",
   "execution_count": 15,
   "metadata": {},
   "outputs": [
    {
     "data": {
      "text/plain": [
       "set()"
      ]
     },
     "execution_count": 15,
     "metadata": {},
     "output_type": "execute_result"
    }
   ],
   "source": [
    "# Очищаем множество\n",
    "a = {'a', 'b', 'c', 'd', 'e', 'f'}\n",
    "a.clear()\n",
    "a"
   ]
  },
  {
   "cell_type": "code",
   "execution_count": 16,
   "metadata": {},
   "outputs": [
    {
     "data": {
      "text/plain": [
       "{'b', 'c', 'd', 'e', 'f'}"
      ]
     },
     "execution_count": 16,
     "metadata": {},
     "output_type": "execute_result"
    }
   ],
   "source": [
    "# Удаление элемента множества, если он находится в множестве. Элемента в множестве может не существовать!\n",
    "a = {'a', 'b', 'c', 'd', 'e', 'f'}\n",
    "a.discard('a')\n",
    "a"
   ]
  },
  {
   "cell_type": "code",
   "execution_count": 17,
   "metadata": {},
   "outputs": [
    {
     "data": {
      "text/plain": [
       "{'b', 'c', 'd', 'e', 'f'}"
      ]
     },
     "execution_count": 17,
     "metadata": {},
     "output_type": "execute_result"
    }
   ],
   "source": [
    "# Удаление элемента множества, если он находится в множестве. Если элемента не существует в множестве, то будет ошибка!\n",
    "a = {'a', 'b', 'c', 'd', 'e', 'f'}\n",
    "a.remove('a')\n",
    "a"
   ]
  },
  {
   "cell_type": "code",
   "execution_count": 18,
   "metadata": {},
   "outputs": [
    {
     "data": {
      "text/plain": [
       "{'a', 'b', 'd', 'e', 'f'}"
      ]
     },
     "execution_count": 18,
     "metadata": {},
     "output_type": "execute_result"
    }
   ],
   "source": [
    "# Удаляем первый элемент множества, т.к. множества не упорядочены, нельзя точно сказать, какой элемент будет первым.\n",
    "a = {'a', 'b', 'c', 'd', 'e', 'f'}\n",
    "a.pop()\n",
    "a"
   ]
  },
  {
   "cell_type": "code",
   "execution_count": 1,
   "metadata": {},
   "outputs": [
    {
     "name": "stdout",
     "output_type": "stream",
     "text": [
      "True\n"
     ]
    }
   ],
   "source": [
    "# Проверка принадлежности к множеству\n",
    "st = {'a', 'b', 'c', 'd'}\n",
    "print ('b' in st)"
   ]
  },
  {
   "cell_type": "code",
   "execution_count": 2,
   "metadata": {},
   "outputs": [
    {
     "name": "stdout",
     "output_type": "stream",
     "text": [
      "c\n",
      "d\n",
      "a\n",
      "b\n"
     ]
    }
   ],
   "source": [
    "# Перебор элементов вножества в цикле\n",
    "st = {'a', 'b', 'c', 'd'}\n",
    "for symbol in st:\n",
    "    print(symbol)"
   ]
  },
  {
   "cell_type": "markdown",
   "metadata": {},
   "source": [
    "### Функции для работы с множествами\n",
    "| Функция     | Описание                                                                                                                    |\n",
    "|-------------|-----------------------------------------------------------------------------------------------------------------------------|\n",
    "| all()       | Возвращает значение True, если все элементы множества являются true (или если множество пусто).                             |\n",
    "| any()       | Возвращает значение True, если какой-либо элемент множества является true. Если множество пусто, возвращает значение False. |\n",
    "| len()       | Возвращает длину (количество элементов) множества.                                                                          |\n",
    "| max()       | Возвращает наибольший элемент во множестве.                                                                                 |\n",
    "| min()       | Возвращает наименьший элемент во множестве.                                                                                 |\n",
    "| sum()       | Возвращает сумму всех элементов множества. Если множество не из цифр вернет ошибку.                                                                                  |\n",
    "| enumerate() | Возвращает пронумерованный объект. Содержит индекс и значение всех элементов множества в виде пары.                         |\n",
    "| sorted()    | Возвращает новый отсортированный список, состоящий из элементов множества (не сортирует само множество).                    |"
   ]
  },
  {
   "cell_type": "code",
   "execution_count": 28,
   "metadata": {},
   "outputs": [
    {
     "name": "stdout",
     "output_type": "stream",
     "text": [
      "True\n",
      "False\n"
     ]
    }
   ],
   "source": [
    "# Проверить все ли элементы множества существуют\n",
    "a = {'a', 'b', 'c', 'd'}\n",
    "print (all(a))\n",
    "a = {'a', None, 'c', 'd'}\n",
    "print (all(a))"
   ]
  },
  {
   "cell_type": "code",
   "execution_count": 29,
   "metadata": {
    "scrolled": true
   },
   "outputs": [
    {
     "name": "stdout",
     "output_type": "stream",
     "text": [
      "True\n",
      "True\n"
     ]
    }
   ],
   "source": [
    "# Проряет не пустое ли множество\n",
    "a = {'a', 'b', 'c', 'd'}\n",
    "print (any(a))\n",
    "a = {'a', None, 'c', 'd'}\n",
    "print (any(a))"
   ]
  },
  {
   "cell_type": "code",
   "execution_count": 30,
   "metadata": {},
   "outputs": [
    {
     "name": "stdout",
     "output_type": "stream",
     "text": [
      "4\n"
     ]
    }
   ],
   "source": [
    "# Возвращает длину (количество элементов) множества.\n",
    "a = {'a', 'b', 'c', 'd'}\n",
    "print (len(a))"
   ]
  },
  {
   "cell_type": "code",
   "execution_count": 31,
   "metadata": {},
   "outputs": [
    {
     "name": "stdout",
     "output_type": "stream",
     "text": [
      "d\n"
     ]
    }
   ],
   "source": [
    "# Возвращает наибольший элемент во множестве.\n",
    "a = {'a', 'b', 'c', 'd'}\n",
    "print (max(a))"
   ]
  },
  {
   "cell_type": "code",
   "execution_count": 32,
   "metadata": {},
   "outputs": [
    {
     "name": "stdout",
     "output_type": "stream",
     "text": [
      "a\n"
     ]
    }
   ],
   "source": [
    "# Возвращает наименьший элемент во множестве.\n",
    "a = {'a', 'b', 'c', 'd'}\n",
    "print (min(a))"
   ]
  },
  {
   "cell_type": "code",
   "execution_count": 35,
   "metadata": {},
   "outputs": [
    {
     "name": "stdout",
     "output_type": "stream",
     "text": [
      "17\n"
     ]
    }
   ],
   "source": [
    "# Возвращает сумму всех элементов множества.\n",
    "a = {9, 3, 1, 4}\n",
    "print (sum(a))"
   ]
  },
  {
   "cell_type": "code",
   "execution_count": 24,
   "metadata": {},
   "outputs": [
    {
     "name": "stdout",
     "output_type": "stream",
     "text": [
      "0 c\n",
      "1 e\n",
      "2 a\n",
      "3 d\n",
      "4 f\n",
      "5 b\n"
     ]
    }
   ],
   "source": [
    "# Возвращает пронумерованный объект. Содержит индекс и значение всех элементов множества в виде пары.\n",
    "a = {'f', 'b', 'd', 'c', 'e', 'a'}\n",
    "b = enumerate (a)\n",
    "for key, value in enumerate(a):\n",
    "    print (key,value)"
   ]
  },
  {
   "cell_type": "code",
   "execution_count": 3,
   "metadata": {},
   "outputs": [
    {
     "data": {
      "text/plain": [
       "['a', 'b', 'c', 'd', 'e', 'f']"
      ]
     },
     "execution_count": 3,
     "metadata": {},
     "output_type": "execute_result"
    }
   ],
   "source": [
    "# Возвращает новый отсортированный список, состоящий из элементов множества (не сортирует само множество).\n",
    "a = {'f', 'b', 'd', 'c', 'e', 'a'}\n",
    "b = sorted (a)\n",
    "b"
   ]
  },
  {
   "cell_type": "markdown",
   "metadata": {},
   "source": [
    "## Логические операции над множествами\n",
    "| Метод           | Описание                                                                                                                    |\n",
    "|-----------------|-----------------------------------------------------------------------------------------------------------------------------|\n",
    "| a.issubset(b)   | Возвращает значение  True,  если другое множество содержит это множество.                                                   |\n",
    "| a.issuperset(b) | Возвращает значение True,  если это множество содержит другое множество.                                                    |\n",
    "| a.isdisjoint(b) | Возвращает значение False, если есть общие элементы во множествах.                                                          |\n",
    "| a == b          | Возвращает True, если все элементы одного множества принадлежат другому.                                                    |\n"
   ]
  },
  {
   "cell_type": "code",
   "execution_count": 4,
   "metadata": {},
   "outputs": [
    {
     "name": "stdout",
     "output_type": "stream",
     "text": [
      "False\n"
     ]
    }
   ],
   "source": [
    "# Проверка есть ли общие элементы во вножествах, если есть, то ЛОЖЬ\n",
    "a = {'a', 'b', 'c', 'd'}\n",
    "b = {'d', 'e', 'f'}\n",
    "print(a.isdisjoint(b))"
   ]
  },
  {
   "cell_type": "code",
   "execution_count": 5,
   "metadata": {},
   "outputs": [
    {
     "name": "stdout",
     "output_type": "stream",
     "text": [
      "True\n",
      "True\n"
     ]
    }
   ],
   "source": [
    "# Сравнение множества. ИСТИНА, если ВСЕ элементы A принадлежат B\n",
    "a = {'a', 'b', 'c', 'd'}\n",
    "b = {'f','e','d', 'c', 'b', 'a'}\n",
    "print (a <= b)\n",
    "print (a.issubset(b))"
   ]
  },
  {
   "cell_type": "code",
   "execution_count": 6,
   "metadata": {},
   "outputs": [
    {
     "name": "stdout",
     "output_type": "stream",
     "text": [
      "False\n",
      "False\n"
     ]
    }
   ],
   "source": [
    "# Сравнение множества. ИСТИНА, если ВСЕ элементы B принадлежат A\n",
    "a = {'a', 'b', 'c', 'd'}\n",
    "b = {'f','e','d', 'c', 'b', 'a'}\n",
    "print (a >= b)\n",
    "print (a.issuperset(b))"
   ]
  },
  {
   "cell_type": "code",
   "execution_count": 8,
   "metadata": {},
   "outputs": [
    {
     "name": "stdout",
     "output_type": "stream",
     "text": [
      "True\n"
     ]
    }
   ],
   "source": [
    "# Сравнение множества, если все элементы одного - принадлежат другому, тогда ИСТИНА\n",
    "a = {'a', 'b', 'c', 'd'}\n",
    "b = {'d', 'c', 'b', 'a'}\n",
    "print (a == b)"
   ]
  },
  {
   "cell_type": "markdown",
   "metadata": {},
   "source": [
    "## SQL операции над множествами"
   ]
  },
  {
   "cell_type": "markdown",
   "metadata": {},
   "source": [
    "![title](img/set.png)"
   ]
  },
  {
   "cell_type": "markdown",
   "metadata": {},
   "source": [
    "| **Метод**                     | **Описание**                                                                                                                                                            |\n",
    "|-------------------------------|-------------------------------------------------------------------------------------------------------------------------------------------------------------------------|\n",
    "| d = a.union(a,b,c)            | Объеденение. Количество множеств не ограничено; объединяет все элементы всех множеств.                                                                                  |\n",
    "| d = a.intersection(b,c)       | Пересечение. Количество множеств не ограничено; находим элементы, которые есть в каждом из множеств.                                                                    |\n",
    "| d = a.difference(b,c)         | Разница множеств.Количество множеств не ограничено; из множества А вычитаем B и C, получаем элементы множества А, кроме тех что совпадают с элементами множества B и С. |\n",
    "| d = a.symmetric_difference(b) | Симметричная разница. Симметричная разница считается только из ДВУХ множеств. Находим элементы множеств А и B, кроме тех, что совпадают.                                |"
   ]
  },
  {
   "cell_type": "markdown",
   "metadata": {},
   "source": [
    "### Объединение\n",
    "Количество множеств не ограничено; объединяет все элементы всех множеств."
   ]
  },
  {
   "cell_type": "code",
   "execution_count": 9,
   "metadata": {},
   "outputs": [
    {
     "name": "stdout",
     "output_type": "stream",
     "text": [
      "{'a', 'f', 'c', 'h', 'i', 'g', 'd', 'b', 'e'}\n",
      "{'a', 'f', 'c', 'h', 'i', 'g', 'd', 'b', 'e'}\n"
     ]
    }
   ],
   "source": [
    "# Создаем новое множество\n",
    "a = {'a', 'b', 'c'}\n",
    "b = {'d', 'e', 'f'}\n",
    "c = {'g', 'h', 'i'}\n",
    "d = a | b | c\n",
    "print (d)\n",
    "d = a.union(b,c)\n",
    "print (d)"
   ]
  },
  {
   "cell_type": "code",
   "execution_count": 10,
   "metadata": {},
   "outputs": [
    {
     "name": "stdout",
     "output_type": "stream",
     "text": [
      "{'a', 'f', 'c', 'h', 'i', 'g', 'b', 'd', 'e'}\n"
     ]
    }
   ],
   "source": [
    "# Объединяем в множество А\n",
    "a = {'a', 'b', 'c'}\n",
    "b = {'d', 'e', 'f'}\n",
    "c = {'g', 'h', 'i'}\n",
    "a |= a | b | c\n",
    "print (a)"
   ]
  },
  {
   "cell_type": "markdown",
   "metadata": {},
   "source": [
    "### Пересечение\n",
    "Количество множеств не ограничено; находим элементы, которые есть в каждом из множеств."
   ]
  },
  {
   "cell_type": "code",
   "execution_count": 11,
   "metadata": {},
   "outputs": [
    {
     "name": "stdout",
     "output_type": "stream",
     "text": [
      "{'d', 'b'}\n",
      "{'d', 'b'}\n"
     ]
    }
   ],
   "source": [
    "# Создаем новое множество\n",
    "a = {'a', 'b', 'd'}\n",
    "b = {'d', 'b', 'f'}\n",
    "c = {'g', 'b', 'd'}\n",
    "d = a & b & c\n",
    "print (d)\n",
    "d = a.intersection(b,c)\n",
    "print (d)"
   ]
  },
  {
   "cell_type": "code",
   "execution_count": 12,
   "metadata": {},
   "outputs": [
    {
     "name": "stdout",
     "output_type": "stream",
     "text": [
      "{'d'}\n",
      "{'c', 'd', 'a', 'b'}\n"
     ]
    }
   ],
   "source": [
    "# Изменяем множество А\n",
    "a = {'a', 'b', 'c', 'd'}\n",
    "b = {'d', 'e', 'f'}\n",
    "c = {'a','d','e'}\n",
    "a.intersection_update(b,c)\n",
    "print (a)\n",
    "st_a = {'a', 'b', 'c', 'd'}\n",
    "st_b = {'d', 'e', 'f'}\n",
    "st_c = {'a','d','e'}\n",
    "a &= b & c\n",
    "print (st_a)"
   ]
  },
  {
   "cell_type": "markdown",
   "metadata": {},
   "source": [
    "### Разница множеств.\n",
    "Количество множеств не ограничено; из множества А вычитаем B и C, получаем элементы множества А, кроме тех что совпадают с элементами множества B и С."
   ]
  },
  {
   "cell_type": "code",
   "execution_count": 13,
   "metadata": {},
   "outputs": [
    {
     "name": "stdout",
     "output_type": "stream",
     "text": [
      "{'a'}\n",
      "{'a'}\n"
     ]
    }
   ],
   "source": [
    "# Создаем новое множество\n",
    "a = {'a', 'b', 'd'}\n",
    "b = {'d', 'b', 'f'}\n",
    "c = {'g', 'b', 'd'}\n",
    "d = a - b - c\n",
    "print (d)\n",
    "d = a.difference(b,c)\n",
    "print (d)"
   ]
  },
  {
   "cell_type": "code",
   "execution_count": 14,
   "metadata": {},
   "outputs": [
    {
     "name": "stdout",
     "output_type": "stream",
     "text": [
      "{'c', 'b'}\n",
      "{'c', 'b'}\n"
     ]
    }
   ],
   "source": [
    "# Изменяем множество А\n",
    "a = {'a', 'b', 'c', 'd'}\n",
    "b = {'d', 'e', 'f'}\n",
    "c = {'a','d','e'}\n",
    "a -= b | c\n",
    "print (a)\n",
    "a = {'a', 'b', 'c', 'd'}\n",
    "b = {'d', 'e', 'f'}\n",
    "c = {'a','d','e'}\n",
    "a.difference_update(b, c)\n",
    "print (a)"
   ]
  },
  {
   "cell_type": "markdown",
   "metadata": {},
   "source": [
    "### Симметричная разница\n",
    "Симметричная разница считается только из ДВУХ множеств. Находим элементы множеств А и B, кроме тех, что совпадают."
   ]
  },
  {
   "cell_type": "code",
   "execution_count": 15,
   "metadata": {},
   "outputs": [
    {
     "name": "stdout",
     "output_type": "stream",
     "text": [
      "{'a', 'f'}\n",
      "{'a', 'f'}\n"
     ]
    }
   ],
   "source": [
    "# Создаем новое множество\n",
    "a = {'a', 'b', 'd'}\n",
    "b = {'d', 'b', 'f'}\n",
    "d = a ^ b\n",
    "print (d)\n",
    "d = a.symmetric_difference(b)\n",
    "print (d)"
   ]
  },
  {
   "cell_type": "code",
   "execution_count": 16,
   "metadata": {},
   "outputs": [
    {
     "name": "stdout",
     "output_type": "stream",
     "text": [
      "{'a', 'f', 'c', 'b', 'e'}\n",
      "{'a', 'f', 'c', 'b', 'e'}\n"
     ]
    }
   ],
   "source": [
    "# Изменяем множество А\n",
    "a = {'a', 'b', 'c', 'd'}\n",
    "b = {'d', 'e', 'f'}\n",
    "a ^= b\n",
    "print (a)\n",
    "a = {'a', 'b', 'c', 'd'}\n",
    "b = {'d', 'e', 'f'}\n",
    "a.symmetric_difference_update(b)\n",
    "print (a)"
   ]
  },
  {
   "cell_type": "markdown",
   "metadata": {},
   "source": [
    "### Множество имеет большой размер, но поиск по нему осуществляется очень быстро."
   ]
  },
  {
   "cell_type": "code",
   "execution_count": 17,
   "metadata": {},
   "outputs": [
    {
     "name": "stdout",
     "output_type": "stream",
     "text": [
      "Размер числа: 28\n",
      "Размер строки: 55\n",
      "Размер кортежа: 72\n",
      "Размер списка: 88\n",
      "Размер множества: 712\n"
     ]
    }
   ],
   "source": [
    "# Размеры числа, строки, кортежа, списка и множества\n",
    "num = (123456)\n",
    "stn = ('123456')\n",
    "tpl = (1, 2, 3, 4, 5, 6)\n",
    "lst = [1, 2, 3, 4, 5, 6]\n",
    "st = {1, 2, 3, 4, 5, 6}\n",
    "print(\"Размер числа: \"+str(num.__sizeof__()))\n",
    "print(\"Размер строки: \"+str(stn.__sizeof__()))\n",
    "print(\"Размер кортежа: \"+str(tpl.__sizeof__()))\n",
    "print (\"Размер списка: \"+str(lst.__sizeof__()))\n",
    "print (\"Размер множества: \"+str(st.__sizeof__()))"
   ]
  },
  {
   "cell_type": "markdown",
   "metadata": {},
   "source": [
    "# Fronzeset\n",
    "Единственное отличие set от frozenset заключается в том, что set - изменяемый тип данных, а frozenset - нет. Примерно похожая ситуация с списками и кортежами."
   ]
  }
 ],
 "metadata": {
  "kernelspec": {
   "display_name": "Python 3",
   "language": "python",
   "name": "python3"
  },
  "language_info": {
   "codemirror_mode": {
    "name": "ipython",
    "version": 3
   },
   "file_extension": ".py",
   "mimetype": "text/x-python",
   "name": "python",
   "nbconvert_exporter": "python",
   "pygments_lexer": "ipython3",
   "version": "3.7.4"
  }
 },
 "nbformat": 4,
 "nbformat_minor": 2
}
