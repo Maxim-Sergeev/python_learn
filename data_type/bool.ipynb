{
 "cells": [
  {
   "cell_type": "markdown",
   "metadata": {},
   "source": [
    "# Логический тип данных (bool), операторы сравнения, логические операторы.\n",
    "Логический или булев (boolean) тип в Python имеет два значения True (истина) и False (ложь). True и False являются зарезервированными (keywords) словами и должны писаться только с большой буквы."
   ]
  },
  {
   "cell_type": "code",
   "execution_count": 1,
   "metadata": {},
   "outputs": [
    {
     "data": {
      "text/plain": [
       "bool"
      ]
     },
     "execution_count": 1,
     "metadata": {},
     "output_type": "execute_result"
    }
   ],
   "source": [
    "a = True\n",
    "type (a)"
   ]
  },
  {
   "cell_type": "markdown",
   "metadata": {},
   "source": [
    "True и False являются значениями типа bool, по своей сути True = 1, а точнее всему, что не равно 0 или не равно пустому объекту, а False = 0 или пустому объекту."
   ]
  },
  {
   "cell_type": "code",
   "execution_count": 2,
   "metadata": {},
   "outputs": [
    {
     "name": "stdout",
     "output_type": "stream",
     "text": [
      "4\n",
      "3\n"
     ]
    }
   ],
   "source": [
    "print (True+3)\n",
    "print (False+3)"
   ]
  },
  {
   "cell_type": "markdown",
   "metadata": {},
   "source": [
    "С помощью функции bool( ), которая возвращает объект преобразованный в булево значение проверим, что True это все, что не равно нулю или не равно пустому объекту, а False равно нулю или пустому объекту."
   ]
  },
  {
   "cell_type": "code",
   "execution_count": 3,
   "metadata": {},
   "outputs": [
    {
     "name": "stdout",
     "output_type": "stream",
     "text": [
      "True\n",
      "True\n",
      "False\n",
      "False\n"
     ]
    }
   ],
   "source": [
    "print (bool(1))\n",
    "print (bool(-1))\n",
    "print (bool(0))\n",
    "print (bool())"
   ]
  },
  {
   "cell_type": "markdown",
   "metadata": {},
   "source": [
    "<a id='s1'></a>\n",
    "## Операторы сравнения\n",
    "Логический тип используется для проверки истинности какого-то условия. Если условие верно, то возвращается True в случае когда условие не верно возвращается False.\n",
    "\n",
    "| **Оператор** | **Описание**                                                                                                        |\n",
    "|--------------|---------------------------------------------------------------------------------------------------------------------|\n",
    "| **==**       | Проверяет равны ли оба операнда. Если да, то условие становится истинным.                                           |\n",
    "| **!=**       | Проверяет равны ли оба операнда. Если нет, то условие становится истинным.                                          |\n",
    "| **\\>**       | Проверяет больше ли значение левого операнда, чем значение правого. Если да, то условие становится истинным.        |\n",
    "| **\\<**       | Проверяет меньше ли значение левого операнда, чем значение правого. Если да, то условие становится истинным.        |\n",
    "| **\\>=**      | Проверяет больше или равно значение левого операнда, чем значение правого. Если да, то условие становится истинным. |\n",
    "| **\\<=**      | Проверяет меньше или равно значение левого операнда, чем значение правого. Если да, то условие становится истинным. |\n"
   ]
  },
  {
   "cell_type": "code",
   "execution_count": 6,
   "metadata": {},
   "outputs": [
    {
     "name": "stdout",
     "output_type": "stream",
     "text": [
      "False\n",
      "True\n",
      "False\n",
      "True\n",
      "False\n",
      "True\n"
     ]
    }
   ],
   "source": [
    "a = 1\n",
    "b = 2\n",
    "print (a == b)\n",
    "print (a != b)\n",
    "print (a > b)\n",
    "print (a < b)\n",
    "print (a >= b)\n",
    "print (a <= b)"
   ]
  },
  {
   "cell_type": "markdown",
   "metadata": {},
   "source": [
    "<a id='s2'></a>\n",
    "## Логические операторы\n",
    "В Python логические операторы пишутся словами.\n",
    "\n",
    "| **Оператор** | **Описание**                                                                                           |\n",
    "|--------------|--------------------------------------------------------------------------------------------------------|\n",
    "| **and**      | Логический оператор \"И\". Условие будет истинным если оба операнда истина.                              |\n",
    "| **or**       | Логический оператор \"ИЛИ\". Если хотя бы один из операндов истинный, то и все выражение будет истинным. |\n",
    "| **not**      | Логический оператор \"НЕ\". Изменяет логическое значение операнда на противоположное.                    |\n"
   ]
  },
  {
   "cell_type": "code",
   "execution_count": 8,
   "metadata": {},
   "outputs": [
    {
     "name": "stdout",
     "output_type": "stream",
     "text": [
      "False\n",
      "True\n",
      "False\n",
      "True\n"
     ]
    }
   ],
   "source": [
    "a = True\n",
    "b = False\n",
    "print (a and b)\n",
    "print (a or b)\n",
    "print (not a)\n",
    "print (not b)"
   ]
  }
 ],
 "metadata": {
  "kernelspec": {
   "display_name": "Python 3",
   "language": "python",
   "name": "python3"
  },
  "language_info": {
   "codemirror_mode": {
    "name": "ipython",
    "version": 3
   },
   "file_extension": ".py",
   "mimetype": "text/x-python",
   "name": "python",
   "nbconvert_exporter": "python",
   "pygments_lexer": "ipython3",
   "version": "3.7.4"
  }
 },
 "nbformat": 4,
 "nbformat_minor": 2
}
