{
 "cells": [
  {
   "cell_type": "markdown",
   "metadata": {},
   "source": [
    "# Числа"
   ]
  },
  {
   "cell_type": "markdown",
   "metadata": {},
   "source": [
    "## Типы чисел"
   ]
  },
  {
   "cell_type": "markdown",
   "metadata": {},
   "source": [
    "![title](num.png)"
   ]
  },
  {
   "cell_type": "markdown",
   "metadata": {},
   "source": [
    "N – **натуральные числа**, целое число от 1 до бесконечности.\n",
    " Последовательность всех натуральных чисел, расположенных в порядке возрастания,\n",
    "называется натуральным рядом. (1,2,3,4...)\n",
    "\n",
    "Z – **целые числа**, расширения множества натуральных чисел прибавлением к нему\n",
    "нуля и отрицательных чисел. (...-4,-3,-2,-1,0,1,2,3,4…)\n",
    "\n",
    "Q – **рациональные числа,** дополняет ряд целых чисел числом с плавающей точкой,\n",
    "которое можно представить обыкновенной дробью m/n, где m- целое число, а n –\n",
    "натуральное число.\n",
    "\n",
    "I – **иррациональные числа**, число с плавающей точкой, которое нельзя\n",
    "предствить в виде дроби, например корень из двух.\n",
    "\n",
    "R – (реальные) **вещественные числа**, оно объединяет все предыдущие множества\n",
    "чисел: натуральных, целых, рациональных и иррациональных. Математически можно\n",
    "записать получение множества вещественных чисел из других\n",
    "так: **R** ={**N**, **Z**, **Q**, **I**}, здесь фигурные скобки обозначают\n",
    "множества, а то, что внутри них называется элементами множества, но т. к. во\n",
    "множестве рациональных чисел уже содержаться и натуральные, и целые числа, то\n",
    "предыдущая запись эквивалентна такой: **R**={**Q**, **I**}.\n",
    "\n",
    "С — **комплексные числа**, *числа вида* *a+bi* *, где* *a* *и* *b*—\n",
    "*вещественные числа,* *i*— *мнимая единица , то есть число, для которого\n",
    "выполняется равенство: i²=–1*\n",
    "\n",
    "Вообще общий вид комплексного числа такой: **z=a+bi,** где\n",
    "число **a** называется *действительной* частью, а\n",
    "число **b** его *мнимой* частью, также встречается трактовка того, что мнимой\n",
    "частью называют произведение **b** и мнимой единицы **i**.\n"
   ]
  },
  {
   "cell_type": "markdown",
   "metadata": {},
   "source": [
    "В Python поддерживаются целые числа, числа с плавающей точкой и комплексные числа. \n",
    "\n",
    "**int : N,Z**\n",
    "\n",
    "**float : Q,I,R**\n",
    "\n",
    "**complex : C**\n",
    "\n",
    "В отличие от других языков, в Python существуют только объекты — это относится и к числам. Целые числа относятся к классу int:"
   ]
  },
  {
   "cell_type": "code",
   "execution_count": 1,
   "metadata": {},
   "outputs": [
    {
     "data": {
      "text/plain": [
       "int"
      ]
     },
     "execution_count": 1,
     "metadata": {},
     "output_type": "execute_result"
    }
   ],
   "source": [
    "# Целое число 1\n",
    "type (1)"
   ]
  },
  {
   "cell_type": "code",
   "execution_count": 1,
   "metadata": {},
   "outputs": [
    {
     "data": {
      "text/plain": [
       "float"
      ]
     },
     "execution_count": 1,
     "metadata": {},
     "output_type": "execute_result"
    }
   ],
   "source": [
    "# Число с плавающей точкой 0.1\n",
    "type (0.1)"
   ]
  },
  {
   "cell_type": "markdown",
   "metadata": {},
   "source": [
    "У чисел с плавающей точкой существует определенный порог точности, поэтому возможна погрешность округления."
   ]
  },
  {
   "cell_type": "code",
   "execution_count": 2,
   "metadata": {},
   "outputs": [
    {
     "name": "stdout",
     "output_type": "stream",
     "text": [
      "0.030000000000000027\n"
     ]
    }
   ],
   "source": [
    "print (1.01 - 0.98)"
   ]
  },
  {
   "cell_type": "markdown",
   "metadata": {},
   "source": [
    "## Операции с числами\n",
    "### Арифметические операторы Python\n",
    "\n",
    "| **Оператор** | **Описание**                                                                                                             |\n",
    "|--------------|--------------------------------------------------------------------------------------------------------------------------|\n",
    "| **+**        | Сложение - Суммирует значения слева и справа от оператора                                                                |\n",
    "| **-**        | Вычитание - Вычитает правый операнд из левого                                                                            |\n",
    "| **\\***       | Умножение - Перемножает операнды                                                                                         |\n",
    "| **/**        | Деление - Делит левый операнд на правый                                                                                  |\n",
    "| **%**        | Деление по модулю - Делит левый операнд на правый и возвращает остаток.                                                  |\n",
    "| **\\*\\***     | Возведение в степень - возводит левый операнд в степень правого                                                          |\n",
    "| **//**       | Целочисленное деление - Деление в котором возвращается только целая часть результата. Часть после запятой отбрасывается. |\n",
    "\n",
    "### Операторы присваивания в Python\n",
    "| **Оператор** | **Описание**                                                                                        |\n",
    "|--------------|-----------------------------------------------------------------------------------------------------|\n",
    "| **=**        | Присваивает значение правого операнда левому.                                                       |\n",
    "| **+=**       | Прибавит значение правого операнда к левому и присвоит эту сумму левому операнду.                   |\n",
    "| **-=**       | Отнимает значение правого операнда от левого и присваивает результат левому операнду.               |\n",
    "| **\\*=**      | Умножает правый операнд с левым и присваивает результат левому операнду.                            |\n",
    "| **/=**       | Делит левый операнд на правый и присваивает результат левому операнду.                              |\n",
    "| **%=**       | Делит по модулю операнды и присваивает результат левому.                                            |\n",
    "| **\\*\\*=**    | Возводит в левый операнд в степень правого и присваивает результат левому операнду.                 |\n",
    "| **//=**      | Производит целочисленное деление левого операнда на правый и присваивает результат левому операнду. |\n"
   ]
  },
  {
   "cell_type": "code",
   "execution_count": 3,
   "metadata": {},
   "outputs": [
    {
     "data": {
      "text/plain": [
       "4"
      ]
     },
     "execution_count": 3,
     "metadata": {},
     "output_type": "execute_result"
    }
   ],
   "source": [
    "# Сложение\n",
    "# При сложении двух целых чисел будет получено целое число. \n",
    "# Если хотябы одно число с плавающей точкой, то и в результате будет число с плавающей точкой.\n",
    "2 + 2"
   ]
  },
  {
   "cell_type": "code",
   "execution_count": 5,
   "metadata": {},
   "outputs": [
    {
     "data": {
      "text/plain": [
       "-4"
      ]
     },
     "execution_count": 5,
     "metadata": {},
     "output_type": "execute_result"
    }
   ],
   "source": [
    "# Вычитание\n",
    "2 - 6"
   ]
  },
  {
   "cell_type": "code",
   "execution_count": 6,
   "metadata": {},
   "outputs": [
    {
     "data": {
      "text/plain": [
       "4"
      ]
     },
     "execution_count": 6,
     "metadata": {},
     "output_type": "execute_result"
    }
   ],
   "source": [
    "# Умножение\n",
    "2 * 2"
   ]
  },
  {
   "cell_type": "code",
   "execution_count": 7,
   "metadata": {},
   "outputs": [
    {
     "data": {
      "text/plain": [
       "1.0"
      ]
     },
     "execution_count": 7,
     "metadata": {},
     "output_type": "execute_result"
    }
   ],
   "source": [
    "# Деление, при делении всегда возвращается число с типом float.\n",
    "2 / 2"
   ]
  },
  {
   "cell_type": "code",
   "execution_count": 8,
   "metadata": {},
   "outputs": [
    {
     "data": {
      "text/plain": [
       "1"
      ]
     },
     "execution_count": 8,
     "metadata": {},
     "output_type": "execute_result"
    }
   ],
   "source": [
    "# Целочисленное деление\n",
    "4 // 3"
   ]
  },
  {
   "cell_type": "code",
   "execution_count": 9,
   "metadata": {},
   "outputs": [
    {
     "data": {
      "text/plain": [
       "0"
      ]
     },
     "execution_count": 9,
     "metadata": {},
     "output_type": "execute_result"
    }
   ],
   "source": [
    "3 // 4"
   ]
  },
  {
   "cell_type": "code",
   "execution_count": 10,
   "metadata": {},
   "outputs": [
    {
     "data": {
      "text/plain": [
       "1"
      ]
     },
     "execution_count": 10,
     "metadata": {},
     "output_type": "execute_result"
    }
   ],
   "source": [
    "# Остаток от деления\n",
    "5 % 2"
   ]
  },
  {
   "cell_type": "markdown",
   "metadata": {},
   "source": [
    "Нужно быть внимательным при использовании оператора % с отрицательными числами. Поведение оператора изменяется в зависимости от того, какой из операндов отрицателен.Python гарантирует, что знак результата совпадает со знаком делителя (или\n",
    "равен 0)"
   ]
  },
  {
   "cell_type": "code",
   "execution_count": 11,
   "metadata": {},
   "outputs": [
    {
     "data": {
      "text/plain": [
       "2"
      ]
     },
     "execution_count": 11,
     "metadata": {},
     "output_type": "execute_result"
    }
   ],
   "source": [
    "-1 % 3"
   ]
  },
  {
   "cell_type": "code",
   "execution_count": 12,
   "metadata": {},
   "outputs": [
    {
     "data": {
      "text/plain": [
       "-1"
      ]
     },
     "execution_count": 12,
     "metadata": {},
     "output_type": "execute_result"
    }
   ],
   "source": [
    "-1 % -3"
   ]
  },
  {
   "cell_type": "code",
   "execution_count": 13,
   "metadata": {},
   "outputs": [
    {
     "data": {
      "text/plain": [
       "-2"
      ]
     },
     "execution_count": 13,
     "metadata": {},
     "output_type": "execute_result"
    }
   ],
   "source": [
    "1 % -3"
   ]
  },
  {
   "cell_type": "code",
   "execution_count": 14,
   "metadata": {},
   "outputs": [
    {
     "data": {
      "text/plain": [
       "1000"
      ]
     },
     "execution_count": 14,
     "metadata": {},
     "output_type": "execute_result"
    }
   ],
   "source": [
    "# Возведение в степень\n",
    "10 ** 3"
   ]
  },
  {
   "cell_type": "markdown",
   "metadata": {},
   "source": [
    "### Модуль operator\n",
    "Python включает модуль operator с функциями для основных математических операций. В частности, он пригодится вам при использовании таких расширенных возможностей Python, как лямбда-функции или генераторы списков:"
   ]
  },
  {
   "cell_type": "code",
   "execution_count": 4,
   "metadata": {},
   "outputs": [
    {
     "data": {
      "text/plain": [
       "7"
      ]
     },
     "execution_count": 4,
     "metadata": {},
     "output_type": "execute_result"
    }
   ],
   "source": [
    "import operator\n",
    "operator.add(5, 2) "
   ]
  },
  {
   "cell_type": "markdown",
   "metadata": {},
   "source": [
    "### Преобразования классов числа"
   ]
  },
  {
   "cell_type": "code",
   "execution_count": 16,
   "metadata": {},
   "outputs": [
    {
     "data": {
      "text/plain": [
       "2"
      ]
     },
     "execution_count": 16,
     "metadata": {},
     "output_type": "execute_result"
    }
   ],
   "source": [
    "int (2.3)"
   ]
  }
 ],
 "metadata": {
  "kernelspec": {
   "display_name": "Python 3",
   "language": "python",
   "name": "python3"
  },
  "language_info": {
   "codemirror_mode": {
    "name": "ipython",
    "version": 3
   },
   "file_extension": ".py",
   "mimetype": "text/x-python",
   "name": "python",
   "nbconvert_exporter": "python",
   "pygments_lexer": "ipython3",
   "version": "3.7.4"
  }
 },
 "nbformat": 4,
 "nbformat_minor": 2
}
