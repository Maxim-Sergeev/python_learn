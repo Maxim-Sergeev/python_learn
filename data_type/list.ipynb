{
 "cells": [
  {
   "cell_type": "markdown",
   "metadata": {},
   "source": [
    "# Списки (list)\n",
    "## Тип изменяемый\n",
    ", т.е. методы списков, в отличие от строковых методов, изменяют сам список, а потому результат выполнения не нужно записывать в эту переменную.\n",
    "\n",
    "Списки в Python - упорядоченные изменяемые коллекции объектов произвольных типов (почти как массив, но типы могут отличаться).\n",
    "Чтобы использовать списки, их нужно создать. Создать список можно несколькими способами.\n",
    "Cписок может содержать любое количество любых объектов (в том числе и вложенные списки), или не содержать ничего.\n",
    "\n",
    "## Создание списков"
   ]
  },
  {
   "cell_type": "code",
   "execution_count": 10,
   "metadata": {},
   "outputs": [
    {
     "data": {
      "text/plain": [
       "['с', 'п', 'и', 'с', 'о', 'к']"
      ]
     },
     "execution_count": 10,
     "metadata": {},
     "output_type": "execute_result"
    }
   ],
   "source": [
    "# Можно обработать любой итерируемый объект (например, строку) встроенной функцией list\n",
    "list('список')"
   ]
  },
  {
   "cell_type": "code",
   "execution_count": 4,
   "metadata": {},
   "outputs": [
    {
     "data": {
      "text/plain": [
       "[]"
      ]
     },
     "execution_count": 4,
     "metadata": {},
     "output_type": "execute_result"
    }
   ],
   "source": [
    "#Список можно создать и при помощи литерала []\n",
    "lst = []\n",
    "lst"
   ]
  },
  {
   "cell_type": "code",
   "execution_count": 5,
   "metadata": {},
   "outputs": [
    {
     "data": {
      "text/plain": [
       "['s', 'p', ['isok'], 2]"
      ]
     },
     "execution_count": 5,
     "metadata": {},
     "output_type": "execute_result"
    }
   ],
   "source": [
    "lst = ['s', 'p', ['isok'], 2]\n",
    "lst"
   ]
  },
  {
   "cell_type": "code",
   "execution_count": 6,
   "metadata": {},
   "outputs": [
    {
     "data": {
      "text/plain": [
       "['lll', 'iii', 'sss', 'ttt']"
      ]
     },
     "execution_count": 6,
     "metadata": {},
     "output_type": "execute_result"
    }
   ],
   "source": [
    "# И еще один способ создать список - это генераторы списков. \n",
    "# Генератор списков - способ построить новый список, применяя выражение к каждому элементу последовательности.\n",
    "# Генераторы списков очень похожи на цикл for.\n",
    "lst = [x * 3 for x in 'list']\n",
    "lst"
   ]
  },
  {
   "cell_type": "code",
   "execution_count": 7,
   "metadata": {},
   "outputs": [
    {
     "data": {
      "text/plain": [
       "['lll', 'sss', 'ttt']"
      ]
     },
     "execution_count": 7,
     "metadata": {},
     "output_type": "execute_result"
    }
   ],
   "source": [
    "# Возможна и более сложная конструкция генератора списков\n",
    "lst = [x * 3 for x in 'list' if x != 'i']\n",
    "lst"
   ]
  },
  {
   "cell_type": "code",
   "execution_count": 8,
   "metadata": {},
   "outputs": [
    {
     "data": {
      "text/plain": [
       "['ls', 'lp', 'la', 'lm', 'ss', 'sp', 'sa', 'sm', 'ts', 'tp', 'ta', 'tm']"
      ]
     },
     "execution_count": 8,
     "metadata": {},
     "output_type": "execute_result"
    }
   ],
   "source": [
    "lst = [x + y for x in 'list' if x != 'i' for y in 'spam']\n",
    "lst"
   ]
  },
  {
   "cell_type": "markdown",
   "metadata": {},
   "source": [
    "## Методы списков\n",
    "| Метод                              | Что делает                                                                                          |\n",
    "|------------------------------------|-----------------------------------------------------------------------------------------------------|\n",
    "| **list.append**(x)                 | Добавляет элемент в конец списка                                                                    |\n",
    "| **list.extend**(L)                 | Расширяет список list, добавляя в конец все элементы списка L                                       |\n",
    "| **list.insert**(i, x)              | Вставляет на i-ый элемент значение x                                                                |\n",
    "| **list.remove**(x)                 | Удаляет первый элемент в списке, имеющий значение x. ValueError, если такого элемента не существует |\n",
    "| **list.pop**([i])                  | Удаляет i-ый элемент и возвращает его. Если индекс не указан, удаляется последний элемент           |\n",
    "| **list.index**(x, [start [, end]]) | Возвращает положение первого элемента со значением x (при этом поиск ведется от start до end)       |\n",
    "| **list.count**(x)                  | Возвращает количество элементов со значением x                                                      |\n",
    "| **list.sort**([key=функция])       | Сортирует список на основе функции                                                                  |\n",
    "| **list.reverse**()                 | Разворачивает список                                                                                |\n",
    "| **list.copy**()                    | Поверхностная копия списка                                                                          |\n",
    "| **list.clear**()                   | Очищает список                                                                                      |\n"
   ]
  },
  {
   "cell_type": "code",
   "execution_count": 1,
   "metadata": {},
   "outputs": [
    {
     "data": {
      "text/plain": [
       "[1, 2, 3, 4]"
      ]
     },
     "execution_count": 1,
     "metadata": {},
     "output_type": "execute_result"
    }
   ],
   "source": [
    "# Добавляем элемент к списку\n",
    "lst = [1,2,3]\n",
    "lst.append(4)\n",
    "lst"
   ]
  },
  {
   "cell_type": "code",
   "execution_count": 2,
   "metadata": {},
   "outputs": [
    {
     "data": {
      "text/plain": [
       "[1, 2, 3, 4, 5, 6]"
      ]
     },
     "execution_count": 2,
     "metadata": {},
     "output_type": "execute_result"
    }
   ],
   "source": [
    "# Расширяем список новым\n",
    "lst1 = [1,2,3]\n",
    "lst2 = [4,5,6]\n",
    "lst1.extend(lst2)\n",
    "lst1"
   ]
  },
  {
   "cell_type": "code",
   "execution_count": 4,
   "metadata": {},
   "outputs": [
    {
     "data": {
      "text/plain": [
       "[1, 9, 2, 3]"
      ]
     },
     "execution_count": 4,
     "metadata": {},
     "output_type": "execute_result"
    }
   ],
   "source": [
    "# Вставляем на i элемент значение, при этом остальные значения сдвигаются\n",
    "lst = [1,2,3]\n",
    "lst.insert(1,9)\n",
    "lst"
   ]
  },
  {
   "cell_type": "code",
   "execution_count": 5,
   "metadata": {},
   "outputs": [
    {
     "data": {
      "text/plain": [
       "[1, 2, 3]"
      ]
     },
     "execution_count": 5,
     "metadata": {},
     "output_type": "execute_result"
    }
   ],
   "source": [
    "# Удаляем элемент списка со значением\n",
    "lst = [1, 9, 2, 3]\n",
    "lst.remove(9)\n",
    "lst"
   ]
  },
  {
   "cell_type": "code",
   "execution_count": 9,
   "metadata": {},
   "outputs": [
    {
     "name": "stdout",
     "output_type": "stream",
     "text": [
      "4\n",
      "[1, 2, 3]\n"
     ]
    }
   ],
   "source": [
    "# Удаляем i элемент и возвращаем его значение\n",
    "lst = [1,2,3,4]\n",
    "print(lst.pop(3))\n",
    "print (lst)"
   ]
  },
  {
   "cell_type": "code",
   "execution_count": 11,
   "metadata": {},
   "outputs": [
    {
     "data": {
      "text/plain": [
       "2"
      ]
     },
     "execution_count": 11,
     "metadata": {},
     "output_type": "execute_result"
    }
   ],
   "source": [
    "# Возвращаем положение первого элемента со значением x  (при этом поиск ведется от start до end)\n",
    "lst = [1,2,3,4,5,6,7,8,9]\n",
    "lst.index(3)"
   ]
  },
  {
   "cell_type": "code",
   "execution_count": 12,
   "metadata": {},
   "outputs": [
    {
     "data": {
      "text/plain": [
       "1"
      ]
     },
     "execution_count": 12,
     "metadata": {},
     "output_type": "execute_result"
    }
   ],
   "source": [
    "# Возвращаем количество элементов со значением x\n",
    "lst = [1,2,3,4,5,6,7,8,9]\n",
    "lst.count(3)"
   ]
  },
  {
   "cell_type": "code",
   "execution_count": 14,
   "metadata": {},
   "outputs": [
    {
     "data": {
      "text/plain": [
       "[1, 2, 3, 4, 5, 6, 7, 8, 9]"
      ]
     },
     "execution_count": 14,
     "metadata": {},
     "output_type": "execute_result"
    }
   ],
   "source": [
    "# Сортируем список по возрастанию\n",
    "lst = [4,7,9,1,5,6,2,8,3]\n",
    "lst.sort()\n",
    "lst"
   ]
  },
  {
   "cell_type": "code",
   "execution_count": 18,
   "metadata": {},
   "outputs": [
    {
     "data": {
      "text/plain": [
       "[9, 8, 7, 6, 5, 4, 3, 2, 1]"
      ]
     },
     "execution_count": 18,
     "metadata": {},
     "output_type": "execute_result"
    }
   ],
   "source": [
    "# Сортируем список по убыванию reverse=False\n",
    "lst = [4,7,9,1,5,6,2,8,3]\n",
    "lst.sort(reverse=True)\n",
    "lst"
   ]
  },
  {
   "cell_type": "code",
   "execution_count": 19,
   "metadata": {},
   "outputs": [
    {
     "data": {
      "text/plain": [
       "[1, 2, 3, 4, 5, 6, 7, 8, 9]"
      ]
     },
     "execution_count": 19,
     "metadata": {},
     "output_type": "execute_result"
    }
   ],
   "source": [
    "# Разворачиваем список\n",
    "lst = [9, 8, 7, 6, 5, 4, 3, 2, 1]\n",
    "lst.reverse()\n",
    "lst"
   ]
  },
  {
   "cell_type": "code",
   "execution_count": 20,
   "metadata": {},
   "outputs": [
    {
     "data": {
      "text/plain": [
       "[]"
      ]
     },
     "execution_count": 20,
     "metadata": {},
     "output_type": "execute_result"
    }
   ],
   "source": [
    "# Очищаем список\n",
    "lst = [9, 8, 7, 6, 5, 4, 3, 2, 1]\n",
    "lst.clear()\n",
    "lst"
   ]
  },
  {
   "cell_type": "markdown",
   "metadata": {},
   "source": [
    "## Функции списков\n",
    "| Функция             | Описание                             |\n",
    "|---------------------|--------------------------------------|\n",
    "| len(list)           | Возвращает длину списка              |\n",
    "| sorted(list, [key]) | Возвращает отсортированный список    |\n",
    "| min(list)           | Возвращает наименьший элемент списка |\n",
    "| max(list)           | Возвращает наибольший элемент списка |\n",
    "| +                   | Расширяем список новым               |\n"
   ]
  },
  {
   "cell_type": "code",
   "execution_count": 21,
   "metadata": {},
   "outputs": [
    {
     "name": "stdout",
     "output_type": "stream",
     "text": [
      "9\n"
     ]
    }
   ],
   "source": [
    "# Количество элементов в листе\n",
    "lst = [9, 8, 7, 6, 5, 4, 3, 2, 1]\n",
    "print (len(lst))"
   ]
  },
  {
   "cell_type": "code",
   "execution_count": 22,
   "metadata": {},
   "outputs": [
    {
     "name": "stdout",
     "output_type": "stream",
     "text": [
      "[1, 2, 3, 4, 5, 6, 7, 8, 9]\n"
     ]
    }
   ],
   "source": [
    "# Сортируем список\n",
    "lst = [4,7,9,1,5,6,2,8,3]\n",
    "print (sorted(lst))"
   ]
  },
  {
   "cell_type": "code",
   "execution_count": 23,
   "metadata": {},
   "outputs": [
    {
     "name": "stdout",
     "output_type": "stream",
     "text": [
      "9\n"
     ]
    }
   ],
   "source": [
    "# Максимальное значение в списке\n",
    "lst = [9, 8, 7, 6, 5, 4, 3, 2, 1]\n",
    "print (max(lst))"
   ]
  },
  {
   "cell_type": "code",
   "execution_count": 24,
   "metadata": {},
   "outputs": [
    {
     "name": "stdout",
     "output_type": "stream",
     "text": [
      "1\n"
     ]
    }
   ],
   "source": [
    "# Минимальное значение в списке\n",
    "lst = [9, 8, 7, 6, 5, 4, 3, 2, 1]\n",
    "print (min(lst))"
   ]
  },
  {
   "cell_type": "code",
   "execution_count": 26,
   "metadata": {},
   "outputs": [
    {
     "data": {
      "text/plain": [
       "[1, 2, 3, 4, 5, 6]"
      ]
     },
     "execution_count": 26,
     "metadata": {},
     "output_type": "execute_result"
    }
   ],
   "source": [
    "# Расширяем список новым\n",
    "lst1 = [1,2,3]\n",
    "lst2 = [4,5,6]\n",
    "lst1 = lst1+lst2\n",
    "lst1"
   ]
  },
  {
   "cell_type": "markdown",
   "metadata": {},
   "source": [
    "## Вывод части листа"
   ]
  },
  {
   "cell_type": "code",
   "execution_count": 32,
   "metadata": {},
   "outputs": [
    {
     "data": {
      "text/plain": [
       "['Четвертый', 'Пятый']"
      ]
     },
     "execution_count": 32,
     "metadata": {},
     "output_type": "execute_result"
    }
   ],
   "source": [
    "# Элементы с 3 по 4 (отчет ведется с нуля и до предпоследнего)\n",
    "lst = [ 'Первый', 'Второй', 'Третий', 'Четвертый', 'Пятый', 'Шестой', 'Седьмой', 'Восьмой', 'Девятый']\n",
    "lst[3:5]"
   ]
  },
  {
   "cell_type": "code",
   "execution_count": 33,
   "metadata": {},
   "outputs": [
    {
     "name": "stdout",
     "output_type": "stream",
     "text": [
      "['Третий', 'Четвертый', 'Пятый', 'Шестой', 'Седьмой']\n"
     ]
    }
   ],
   "source": [
    "# Элементы со 2 по 2 с конца\n",
    "lst = [ 'Первый', 'Второй', 'Третий', 'Четвертый', 'Пятый', 'Шестой', 'Седьмой', 'Восьмой', 'Девятый']\n",
    "print(lst[2:-2])"
   ]
  },
  {
   "cell_type": "code",
   "execution_count": 35,
   "metadata": {},
   "outputs": [
    {
     "data": {
      "text/plain": [
       "['Первый', 'Второй', 'Третий', 'Четвертый', 'Пятый', 'Шестой']"
      ]
     },
     "execution_count": 35,
     "metadata": {},
     "output_type": "execute_result"
    }
   ],
   "source": [
    "# Элементы от начала и до 5го\n",
    "lst = [ 'Первый', 'Второй', 'Третий', 'Четвертый', 'Пятый', 'Шестой', 'Седьмой', 'Восьмой', 'Девятый']\n",
    "lst[:6]"
   ]
  },
  {
   "cell_type": "code",
   "execution_count": 36,
   "metadata": {},
   "outputs": [
    {
     "data": {
      "text/plain": [
       "['Второй',\n",
       " 'Третий',\n",
       " 'Четвертый',\n",
       " 'Пятый',\n",
       " 'Шестой',\n",
       " 'Седьмой',\n",
       " 'Восьмой',\n",
       " 'Девятый']"
      ]
     },
     "execution_count": 36,
     "metadata": {},
     "output_type": "execute_result"
    }
   ],
   "source": [
    "# Элементы с 1 до конца\n",
    "lst = [ 'Первый', 'Второй', 'Третий', 'Четвертый', 'Пятый', 'Шестой', 'Седьмой', 'Восьмой', 'Девятый']\n",
    "lst[1:]"
   ]
  },
  {
   "cell_type": "code",
   "execution_count": 37,
   "metadata": {},
   "outputs": [
    {
     "data": {
      "text/plain": [
       "['Первый',\n",
       " 'Второй',\n",
       " 'Третий',\n",
       " 'Четвертый',\n",
       " 'Пятый',\n",
       " 'Шестой',\n",
       " 'Седьмой',\n",
       " 'Восьмой',\n",
       " 'Девятый']"
      ]
     },
     "execution_count": 37,
     "metadata": {},
     "output_type": "execute_result"
    }
   ],
   "source": [
    "# Все элементы\n",
    "lst = [ 'Первый', 'Второй', 'Третий', 'Четвертый', 'Пятый', 'Шестой', 'Седьмой', 'Восьмой', 'Девятый']\n",
    "lst[:]"
   ]
  },
  {
   "cell_type": "code",
   "execution_count": 38,
   "metadata": {},
   "outputs": [
    {
     "data": {
      "text/plain": [
       "['Третий', 'Пятый', 'Седьмой', 'Девятый']"
      ]
     },
     "execution_count": 38,
     "metadata": {},
     "output_type": "execute_result"
    }
   ],
   "source": [
    "# Элементы со 2 до последнего  с шагом 2\n",
    "lst = [ 'Первый', 'Второй', 'Третий', 'Четвертый', 'Пятый', 'Шестой', 'Седьмой', 'Восьмой', 'Девятый']\n",
    "lst[2::2]"
   ]
  },
  {
   "cell_type": "code",
   "execution_count": 39,
   "metadata": {},
   "outputs": [
    {
     "data": {
      "text/plain": [
       "['Восьмой', 'Седьмой', 'Шестой', 'Пятый', 'Четвертый', 'Третий']"
      ]
     },
     "execution_count": 39,
     "metadata": {},
     "output_type": "execute_result"
    }
   ],
   "source": [
    "# Элементы с 7 по 2 с шагом 1 назад\n",
    "lst = [ 'Первый', 'Второй', 'Третий', 'Четвертый', 'Пятый', 'Шестой', 'Седьмой', 'Восьмой', 'Девятый']\n",
    "lst[7:1:-1]"
   ]
  },
  {
   "cell_type": "code",
   "execution_count": 40,
   "metadata": {},
   "outputs": [
    {
     "data": {
      "text/plain": [
       "['Девятый',\n",
       " 'Восьмой',\n",
       " 'Седьмой',\n",
       " 'Шестой',\n",
       " 'Пятый',\n",
       " 'Четвертый',\n",
       " 'Третий',\n",
       " 'Второй',\n",
       " 'Первый']"
      ]
     },
     "execution_count": 40,
     "metadata": {},
     "output_type": "execute_result"
    }
   ],
   "source": [
    "# Лист в обратной последовательности\n",
    "lst = [ 'Первый', 'Второй', 'Третий', 'Четвертый', 'Пятый', 'Шестой', 'Седьмой', 'Восьмой', 'Девятый']\n",
    "lst[::-1]"
   ]
  },
  {
   "cell_type": "code",
   "execution_count": 41,
   "metadata": {},
   "outputs": [
    {
     "data": {
      "text/plain": [
       "'Пятый'"
      ]
     },
     "execution_count": 41,
     "metadata": {},
     "output_type": "execute_result"
    }
   ],
   "source": [
    "# Третий элемент в промежутке с 1 по 5\n",
    "lst = [ 'Первый', 'Второй', 'Третий', 'Четвертый', 'Пятый', 'Шестой', 'Седьмой', 'Восьмой', 'Девятый']\n",
    "lst[1:5][3]"
   ]
  },
  {
   "cell_type": "code",
   "execution_count": 42,
   "metadata": {},
   "outputs": [
    {
     "data": {
      "text/plain": [
       "'Восьмой'"
      ]
     },
     "execution_count": 42,
     "metadata": {},
     "output_type": "execute_result"
    }
   ],
   "source": [
    "# Второй элемент со второго, с конца\n",
    "lst = [ 'Первый', 'Второй', 'Третий', 'Четвертый', 'Пятый', 'Шестой', 'Седьмой', 'Восьмой', 'Девятый']\n",
    "lst[-2]"
   ]
  },
  {
   "cell_type": "code",
   "execution_count": 43,
   "metadata": {},
   "outputs": [
    {
     "data": {
      "text/plain": [
       "['Восьмой', 'Девятый']"
      ]
     },
     "execution_count": 43,
     "metadata": {},
     "output_type": "execute_result"
    }
   ],
   "source": [
    "# Все элементы со второго, с конца\n",
    "lst = [ 'Первый', 'Второй', 'Третий', 'Четвертый', 'Пятый', 'Шестой', 'Седьмой', 'Восьмой', 'Девятый']\n",
    "lst[-2:]"
   ]
  },
  {
   "cell_type": "markdown",
   "metadata": {},
   "source": [
    "## Перевод из листа в строку и обратно"
   ]
  },
  {
   "cell_type": "code",
   "execution_count": 45,
   "metadata": {},
   "outputs": [
    {
     "name": "stdout",
     "output_type": "stream",
     "text": [
      "<class 'str'>\n"
     ]
    },
    {
     "data": {
      "text/plain": [
       "'Первый;Второй;Третий;Четвертый;Пятый;Шестой;Седьмой;Восьмой;Девятый'"
      ]
     },
     "execution_count": 45,
     "metadata": {},
     "output_type": "execute_result"
    }
   ],
   "source": [
    "# Из листа в строку\n",
    "lst = [ 'Первый', 'Второй', 'Третий', 'Четвертый', 'Пятый', 'Шестой', 'Седьмой', 'Восьмой', 'Девятый']\n",
    "stn = ';'.join(lst)\n",
    "print (type(stn))\n",
    "stn"
   ]
  },
  {
   "cell_type": "code",
   "execution_count": 46,
   "metadata": {},
   "outputs": [
    {
     "name": "stdout",
     "output_type": "stream",
     "text": [
      "<class 'list'>\n"
     ]
    },
    {
     "data": {
      "text/plain": [
       "['Первый',\n",
       " 'Второй',\n",
       " 'Третий',\n",
       " 'Четвертый',\n",
       " 'Пятый',\n",
       " 'Шестой',\n",
       " 'Седьмой',\n",
       " 'Восьмой',\n",
       " 'Девятый']"
      ]
     },
     "execution_count": 46,
     "metadata": {},
     "output_type": "execute_result"
    }
   ],
   "source": [
    "# Из строки в лист\n",
    "stn = 'Первый;Второй;Третий;Четвертый;Пятый;Шестой;Седьмой;Восьмой;Девятый'\n",
    "lst = stn.split(';')\n",
    "print (type(lst))\n",
    "lst"
   ]
  },
  {
   "cell_type": "markdown",
   "metadata": {},
   "source": [
    "## Подсчет элементов в листе"
   ]
  },
  {
   "cell_type": "code",
   "execution_count": 51,
   "metadata": {},
   "outputs": [
    {
     "data": {
      "text/plain": [
       "Counter({'Первый': 3, 'Второй': 1, 'Третий': 2, 'Четвертый': 1, 'Пятый': 1})"
      ]
     },
     "execution_count": 51,
     "metadata": {},
     "output_type": "execute_result"
    }
   ],
   "source": [
    "lst = [ 'Первый', 'Первый', 'Первый', 'Второй', 'Третий', 'Третий', 'Четвертый', 'Пятый']\n",
    "from collections import Counter\n",
    "Counter(lst)"
   ]
  },
  {
   "cell_type": "code",
   "execution_count": null,
   "metadata": {},
   "outputs": [],
   "source": []
  }
 ],
 "metadata": {
  "kernelspec": {
   "display_name": "Python 3",
   "language": "python",
   "name": "python3"
  },
  "language_info": {
   "codemirror_mode": {
    "name": "ipython",
    "version": 3
   },
   "file_extension": ".py",
   "mimetype": "text/x-python",
   "name": "python",
   "nbconvert_exporter": "python",
   "pygments_lexer": "ipython3",
   "version": "3.7.4"
  }
 },
 "nbformat": 4,
 "nbformat_minor": 2
}
