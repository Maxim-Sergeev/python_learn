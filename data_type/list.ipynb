{
 "cells": [
  {
   "cell_type": "markdown",
   "metadata": {},
   "source": [
    "# Списки (list)\n",
    "## Тип изменяемый\n",
    ", т.е. методы списков, в отличие от строковых методов, изменяют сам список, а потому результат выполнения не нужно записывать в эту переменную.\n",
    "\n",
    "Списки в Python - упорядоченные изменяемые коллекции объектов произвольных типов (почти как массив, но типы могут отличаться).\n",
    "Чтобы использовать списки, их нужно создать. Создать список можно несколькими способами.\n",
    "Cписок может содержать любое количество любых объектов (в том числе и вложенные списки), или не содержать ничего.\n",
    "\n",
    "## Создание списков"
   ]
  },
  {
   "cell_type": "code",
   "execution_count": 10,
   "metadata": {},
   "outputs": [
    {
     "data": {
      "text/plain": [
       "['с', 'п', 'и', 'с', 'о', 'к']"
      ]
     },
     "execution_count": 10,
     "metadata": {},
     "output_type": "execute_result"
    }
   ],
   "source": [
    "# Можно обработать любой итерируемый объект (например, строку) встроенной функцией list\n",
    "list('список')"
   ]
  },
  {
   "cell_type": "code",
   "execution_count": 4,
   "metadata": {},
   "outputs": [
    {
     "data": {
      "text/plain": [
       "[]"
      ]
     },
     "execution_count": 4,
     "metadata": {},
     "output_type": "execute_result"
    }
   ],
   "source": [
    "#Список можно создать и при помощи литерала []\n",
    "lst = []\n",
    "lst"
   ]
  },
  {
   "cell_type": "code",
   "execution_count": 5,
   "metadata": {},
   "outputs": [
    {
     "data": {
      "text/plain": [
       "['s', 'p', ['isok'], 2]"
      ]
     },
     "execution_count": 5,
     "metadata": {},
     "output_type": "execute_result"
    }
   ],
   "source": [
    "lst = ['s', 'p', ['isok'], 2]\n",
    "lst"
   ]
  },
  {
   "cell_type": "code",
   "execution_count": 6,
   "metadata": {},
   "outputs": [
    {
     "data": {
      "text/plain": [
       "['lll', 'iii', 'sss', 'ttt']"
      ]
     },
     "execution_count": 6,
     "metadata": {},
     "output_type": "execute_result"
    }
   ],
   "source": [
    "# И еще один способ создать список - это генераторы списков. \n",
    "# Генератор списков - способ построить новый список, применяя выражение к каждому элементу последовательности.\n",
    "# Генераторы списков очень похожи на цикл for.\n",
    "lst = [x * 3 for x in 'list']\n",
    "lst"
   ]
  },
  {
   "cell_type": "code",
   "execution_count": 7,
   "metadata": {},
   "outputs": [
    {
     "data": {
      "text/plain": [
       "['lll', 'sss', 'ttt']"
      ]
     },
     "execution_count": 7,
     "metadata": {},
     "output_type": "execute_result"
    }
   ],
   "source": [
    "# Возможна и более сложная конструкция генератора списков\n",
    "lst = [x * 3 for x in 'list' if x != 'i']\n",
    "lst"
   ]
  },
  {
   "cell_type": "code",
   "execution_count": 8,
   "metadata": {},
   "outputs": [
    {
     "data": {
      "text/plain": [
       "['ls', 'lp', 'la', 'lm', 'ss', 'sp', 'sa', 'sm', 'ts', 'tp', 'ta', 'tm']"
      ]
     },
     "execution_count": 8,
     "metadata": {},
     "output_type": "execute_result"
    }
   ],
   "source": [
    "lst = [x + y for x in 'list' if x != 'i' for y in 'spam']\n",
    "lst"
   ]
  },
  {
   "cell_type": "markdown",
   "metadata": {},
   "source": [
    "## Методы списков\n",
    "| Метод                              | Что делает                                                                                          |\n",
    "|------------------------------------|-----------------------------------------------------------------------------------------------------|\n",
    "| **list.append**(x)                 | Добавляет элемент в конец списка                                                                    |\n",
    "| **list.extend**(L)                 | Расширяет список list, добавляя в конец все элементы списка L                                       |\n",
    "| **list.insert**(i, x)              | Вставляет на i-ый элемент значение x                                                                |\n",
    "| **list.remove**(x)                 | Удаляет первый элемент в списке, имеющий значение x. ValueError, если такого элемента не существует |\n",
    "| **list.pop**([i])                  | Удаляет i-ый элемент и возвращает его. Если индекс не указан, удаляется последний элемент           |\n",
    "| **list.index**(x, [start [, end]]) | Возвращает положение первого элемента со значением x (при этом поиск ведется от start до end)       |\n",
    "| **list.count**(x)                  | Возвращает количество элементов со значением x                                                      |\n",
    "| **list.sort**([key=функция])       | Сортирует список на основе функции                                                                  |\n",
    "| **list.reverse**()                 | Разворачивает список                                                                                |\n",
    "| **list.copy**()                    | Поверхностная копия списка                                                                          |\n",
    "| **list.clear**()                   | Очищает список                                                                                      |\n"
   ]
  },
  {
   "cell_type": "code",
   "execution_count": null,
   "metadata": {},
   "outputs": [],
   "source": []
  }
 ],
 "metadata": {
  "kernelspec": {
   "display_name": "Python 3",
   "language": "python",
   "name": "python3"
  },
  "language_info": {
   "codemirror_mode": {
    "name": "ipython",
    "version": 3
   },
   "file_extension": ".py",
   "mimetype": "text/x-python",
   "name": "python",
   "nbconvert_exporter": "python",
   "pygments_lexer": "ipython3",
   "version": "3.7.4"
  }
 },
 "nbformat": 4,
 "nbformat_minor": 2
}
