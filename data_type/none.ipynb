{
 "cells": [
  {
   "cell_type": "markdown",
   "metadata": {},
   "source": [
    "# Неопределенное значение. None\n",
    "Значение не определено, часто используется в конструкциях try, except."
   ]
  },
  {
   "cell_type": "markdown",
   "metadata": {},
   "source": [
    "## Создание переменной типа None"
   ]
  },
  {
   "cell_type": "code",
   "execution_count": 11,
   "metadata": {},
   "outputs": [
    {
     "data": {
      "text/plain": [
       "NoneType"
      ]
     },
     "execution_count": 11,
     "metadata": {},
     "output_type": "execute_result"
    }
   ],
   "source": [
    "none_var = None\n",
    "type (none_var)"
   ]
  },
  {
   "cell_type": "markdown",
   "metadata": {},
   "source": [
    "## Проверка на None c помощью == или оператора is.\n",
    "Следует использовать консрукцию is, т.к. Python предоставляет возможность переопределения операторов сравнения в пользовательских классах, что в итоге с использованием оператора == приведет к непредсказуемым результатам. Оператор is переопределить нельзя.\n",
    "\n",
    "is говорит тот же объект или нет. Назначение == сравнивать значения объектов"
   ]
  },
  {
   "cell_type": "code",
   "execution_count": 12,
   "metadata": {},
   "outputs": [
    {
     "name": "stdout",
     "output_type": "stream",
     "text": [
      "none_var is None\n"
     ]
    }
   ],
   "source": [
    "none_var = None\n",
    "if none_var is None:\n",
    "    print('none_var is None')"
   ]
  },
  {
   "cell_type": "code",
   "execution_count": 13,
   "metadata": {},
   "outputs": [
    {
     "name": "stdout",
     "output_type": "stream",
     "text": [
      "none_var is None\n"
     ]
    }
   ],
   "source": [
    "none_var = None\n",
    "if none_var == None:\n",
    "    print('none_var is None')"
   ]
  },
  {
   "cell_type": "markdown",
   "metadata": {},
   "source": [
    "Не стоит путать, что пустая строка уже не является типом None, т. к. ее значение уже опеределено, как пустая строка. 0, также не является типом None. a == None сравнивает эти объекты с None объектом. Никакой объект типа str или int не может быть равен None."
   ]
  },
  {
   "cell_type": "code",
   "execution_count": 10,
   "metadata": {},
   "outputs": [
    {
     "name": "stdout",
     "output_type": "stream",
     "text": [
      "False\n",
      "False\n",
      "False\n"
     ]
    }
   ],
   "source": [
    "a = \"\"\n",
    "print (a == None)\n",
    "a = \"0\"\n",
    "print (a == None)\n",
    "a = 0\n",
    "print (a == None)"
   ]
  },
  {
   "cell_type": "markdown",
   "metadata": {},
   "source": [
    "В Python существует понятие \"truthiness\" (истинный) следуя его логике пустая строка, равно как и другие пустые, но существующие перемнные, а также переменные равные 0 являются \"Falsey\""
   ]
  },
  {
   "cell_type": "code",
   "execution_count": 18,
   "metadata": {},
   "outputs": [
    {
     "name": "stdout",
     "output_type": "stream",
     "text": [
      "'' is Falsey\n",
      "0 is Falsey\n",
      "'0' is True string\n"
     ]
    }
   ],
   "source": [
    "a = \"\"\n",
    "if not a:\n",
    "    print(f'{a!r} is Falsey')\n",
    "a = 0\n",
    "if not a:\n",
    "    print(f'{a!r} is Falsey')\n",
    "a = '0'\n",
    "if not a:\n",
    "    print(f'{a!r} is Falsey')\n",
    "else:\n",
    "    print(f'{a!r} is True string')        "
   ]
  },
  {
   "cell_type": "code",
   "execution_count": null,
   "metadata": {},
   "outputs": [],
   "source": []
  }
 ],
 "metadata": {
  "kernelspec": {
   "display_name": "Python 3",
   "language": "python",
   "name": "python3"
  },
  "language_info": {
   "codemirror_mode": {
    "name": "ipython",
    "version": 3
   },
   "file_extension": ".py",
   "mimetype": "text/x-python",
   "name": "python",
   "nbconvert_exporter": "python",
   "pygments_lexer": "ipython3",
   "version": "3.7.4"
  }
 },
 "nbformat": 4,
 "nbformat_minor": 2
}
