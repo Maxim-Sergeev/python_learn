{
 "cells": [
  {
   "cell_type": "markdown",
   "metadata": {},
   "source": [
    "# Словари\n",
    "Словари в Python - неупорядоченные коллекции произвольных объектов с доступом по ключу. В других языках программирования их ещё называют ассоциативными массивами или хеш-таблицами.\n",
    "## Создание словаря"
   ]
  },
  {
   "cell_type": "code",
   "execution_count": 1,
   "metadata": {},
   "outputs": [
    {
     "name": "stdout",
     "output_type": "stream",
     "text": [
      "{}\n",
      "{'Первый': 1, 'Второй': 2, 'Третий': 3}\n"
     ]
    }
   ],
   "source": [
    "# Создание словаря с помощью литерала {}\n",
    "dct = {}\n",
    "print (dct)\n",
    "dct = {'Первый':1, 'Второй':2, 'Третий':3}\n",
    "print (dct)"
   ]
  },
  {
   "cell_type": "code",
   "execution_count": 6,
   "metadata": {},
   "outputs": [
    {
     "name": "stdout",
     "output_type": "stream",
     "text": [
      "{'Первый': 1, 'Второй': 2, 'Третий': 3}\n",
      "{'Первый': 1, 'Второй': 2, 'Третий': 3}\n"
     ]
    }
   ],
   "source": [
    "# Создание словаря с помощью функции dict()\n",
    "dct = dict(Первый=1, Второй=2, Третий=3)\n",
    "print (dct)\n",
    "dct = dict([('Первый',1), ('Второй',2), ('Третий',3)])\n",
    "print (dct)"
   ]
  },
  {
   "cell_type": "code",
   "execution_count": 10,
   "metadata": {},
   "outputs": [
    {
     "name": "stdout",
     "output_type": "stream",
     "text": [
      "{'Первый': None, 'Второй': None}\n",
      "{'Первый': 777, 'Второй': 777}\n"
     ]
    }
   ],
   "source": [
    "# Создание словаря с помощью метода fromkeys функции dict\n",
    "dct = dict.fromkeys(['Первый', 'Второй'])\n",
    "print (dct)\n",
    "dct = dict.fromkeys(['Первый', 'Второй'],777)\n",
    "print (dct)"
   ]
  },
  {
   "cell_type": "code",
   "execution_count": 12,
   "metadata": {},
   "outputs": [
    {
     "name": "stdout",
     "output_type": "stream",
     "text": [
      "{0: 0, 1: 1, 2: 4, 3: 9, 4: 16, 5: 25, 6: 36}\n"
     ]
    }
   ],
   "source": [
    "# Создание словаря с помощью генератора словарей\n",
    "dct = {x: x**2 for x in range(7)}\n",
    "print (dct)"
   ]
  },
  {
   "cell_type": "markdown",
   "metadata": {},
   "source": [
    "## Обращение к данным словаря"
   ]
  },
  {
   "cell_type": "code",
   "execution_count": 13,
   "metadata": {},
   "outputs": [
    {
     "data": {
      "text/plain": [
       "1"
      ]
     },
     "execution_count": 13,
     "metadata": {},
     "output_type": "execute_result"
    }
   ],
   "source": [
    "# Обращение по ключу\n",
    "dct = {'Первый':1, 'Второй':2, 'Третий':3}\n",
    "dct['Первый']"
   ]
  },
  {
   "cell_type": "code",
   "execution_count": 14,
   "metadata": {},
   "outputs": [
    {
     "data": {
      "text/plain": [
       "{'Первый': 1, 'Второй': None, 'Третий': 3}"
      ]
     },
     "execution_count": 14,
     "metadata": {},
     "output_type": "execute_result"
    }
   ],
   "source": [
    "# Изменение данных словаря\n",
    "dct = {'Первый':1, 'Второй':2, 'Третий':3}\n",
    "dct['Второй'] = None\n",
    "dct"
   ]
  },
  {
   "cell_type": "code",
   "execution_count": 16,
   "metadata": {},
   "outputs": [
    {
     "ename": "KeyError",
     "evalue": "'1'",
     "output_type": "error",
     "traceback": [
      "\u001b[1;31m---------------------------------------------------------------------------\u001b[0m",
      "\u001b[1;31mKeyError\u001b[0m                                  Traceback (most recent call last)",
      "\u001b[1;32m<ipython-input-16-92c5dfa5e3bc>\u001b[0m in \u001b[0;36m<module>\u001b[1;34m\u001b[0m\n\u001b[0;32m      1\u001b[0m \u001b[1;31m# Важно понимать, если ключ - число, то и обращаться нужно как к числу, а не строке\u001b[0m\u001b[1;33m\u001b[0m\u001b[1;33m\u001b[0m\u001b[1;33m\u001b[0m\u001b[0m\n\u001b[0;32m      2\u001b[0m \u001b[0mdct\u001b[0m \u001b[1;33m=\u001b[0m \u001b[1;33m{\u001b[0m\u001b[1;36m1\u001b[0m\u001b[1;33m:\u001b[0m\u001b[1;36m1\u001b[0m\u001b[1;33m,\u001b[0m \u001b[1;36m2\u001b[0m\u001b[1;33m:\u001b[0m\u001b[1;36m2\u001b[0m\u001b[1;33m,\u001b[0m \u001b[1;36m3\u001b[0m\u001b[1;33m:\u001b[0m\u001b[1;36m3\u001b[0m\u001b[1;33m}\u001b[0m\u001b[1;33m\u001b[0m\u001b[1;33m\u001b[0m\u001b[0m\n\u001b[1;32m----> 3\u001b[1;33m \u001b[0mdct\u001b[0m\u001b[1;33m[\u001b[0m\u001b[1;34m'1'\u001b[0m\u001b[1;33m]\u001b[0m\u001b[1;33m\u001b[0m\u001b[1;33m\u001b[0m\u001b[0m\n\u001b[0m",
      "\u001b[1;31mKeyError\u001b[0m: '1'"
     ]
    }
   ],
   "source": [
    "# Важно понимать, если ключ - число, то и обращаться нужно как к числу, а не строке\n",
    "dct = {1:1, 2:2, 3:3}\n",
    "dct['1']"
   ]
  },
  {
   "cell_type": "code",
   "execution_count": 17,
   "metadata": {},
   "outputs": [
    {
     "data": {
      "text/plain": [
       "{'Первый': 1, 'Второй': 2, 'Третий': 3, 'Четвертый': None}"
      ]
     },
     "execution_count": 17,
     "metadata": {},
     "output_type": "execute_result"
    }
   ],
   "source": [
    "# Если обратиться к новому ключу, то словарь будет расширен\n",
    "dct = {'Первый':1, 'Второй':2, 'Третий':3}\n",
    "dct['Четвертый'] = None\n",
    "dct"
   ]
  },
  {
   "cell_type": "markdown",
   "metadata": {},
   "source": [
    "# Методы словарей\n",
    "| **Метод**                       | **Описание**                                                                                                                          |\n",
    "|---------------------------------|---------------------------------------------------------------------------------------------------------------------------------------|\n",
    "| dict.clear()                    | Очищает словарь.                                                                                                                      |\n",
    "| dict.copy()                     | Возвращает копию словаря.                                                                                                             |\n",
    "| dict.fromkeys(seq[, value])     | Создает словарь с ключами из seq и значением value (по умолчанию None).                                                               |\n",
    "| dict.get(key[, default])        | Возвращает значение ключа, но если его нет, не бросает исключение, а возвращает default (по умолчанию None).                          |\n",
    "| dict.items()                    | Возвращает пары (ключ, значение).                                                                                                     |\n",
    "| dict.keys()                     | Возвращает ключи в словаре.                                                                                                           |\n",
    "| dict.pop(key[, default])        | Удаляет ключ и возвращает значение. Если ключа нет, возвращает default (по умолчанию бросает исключение).                             |\n",
    "| dict.popitem()                  | Удаляет последнее значение в словаре и возвращает пару (ключ, значение). Если словарь пуст, бросает исключение KeyError. Помните, что словари не упорядочены.      |\n",
    "| dict.setdefault(key[, default]) | Возвращает значение ключа, но если его нет, не бросает исключение, а создает ключ с значением default (по умолчанию None).            |\n",
    "| dict.update([other])            | Обновляет словарь, добавляя пары (ключ, значение) из other. Существующие ключи перезаписываются. Возвращает None (не новый словарь!). |\n",
    "| dict.values()                   | Возвращает значения в словаре.                                                                                                        |\n"
   ]
  },
  {
   "cell_type": "code",
   "execution_count": 18,
   "metadata": {},
   "outputs": [
    {
     "data": {
      "text/plain": [
       "{}"
      ]
     },
     "execution_count": 18,
     "metadata": {},
     "output_type": "execute_result"
    }
   ],
   "source": [
    "# Очищаем словарь\n",
    "dct = {'Первый':1, 'Второй':2, 'Третий':3}\n",
    "dct.clear()\n",
    "dct"
   ]
  },
  {
   "cell_type": "code",
   "execution_count": 19,
   "metadata": {},
   "outputs": [
    {
     "data": {
      "text/plain": [
       "{'Первый': 1, 'Второй': 2, 'Третий': 3}"
      ]
     },
     "execution_count": 19,
     "metadata": {},
     "output_type": "execute_result"
    }
   ],
   "source": [
    "# Копируем словарь\n",
    "dct = {'Первый':1, 'Второй':2, 'Третий':3}\n",
    "new_dct = dct.copy()\n",
    "new_dct"
   ]
  },
  {
   "cell_type": "code",
   "execution_count": 24,
   "metadata": {},
   "outputs": [
    {
     "data": {
      "text/plain": [
       "'Значение по умолчанию'"
      ]
     },
     "execution_count": 24,
     "metadata": {},
     "output_type": "execute_result"
    }
   ],
   "source": [
    "# Возвращаем значение ключа\n",
    "dct = {'Первый':1, 'Второй':2, 'Третий':3}\n",
    "dct.get('Десятый', 'Значение по умолчанию')"
   ]
  },
  {
   "cell_type": "code",
   "execution_count": 25,
   "metadata": {},
   "outputs": [
    {
     "data": {
      "text/plain": [
       "dict_items([('Первый', 1), ('Второй', 2), ('Третий', 3)])"
      ]
     },
     "execution_count": 25,
     "metadata": {},
     "output_type": "execute_result"
    }
   ],
   "source": [
    "# Возвращаем пары: ключ, значение\n",
    "dct = {'Первый':1, 'Второй':2, 'Третий':3}\n",
    "dct.items()"
   ]
  },
  {
   "cell_type": "code",
   "execution_count": 26,
   "metadata": {},
   "outputs": [
    {
     "data": {
      "text/plain": [
       "dict_keys(['Первый', 'Второй', 'Третий'])"
      ]
     },
     "execution_count": 26,
     "metadata": {},
     "output_type": "execute_result"
    }
   ],
   "source": [
    "# Возвращаем ключи в словаре\n",
    "dct = {'Первый':1, 'Второй':2, 'Третий':3}\n",
    "dct.keys()"
   ]
  },
  {
   "cell_type": "code",
   "execution_count": 29,
   "metadata": {},
   "outputs": [
    {
     "name": "stdout",
     "output_type": "stream",
     "text": [
      "1\n",
      "Значение по умолчанию\n"
     ]
    }
   ],
   "source": [
    "# Удаляем ключ и возвращаем значение, если ключа нет, возвращает default (по умолчанию бросает исключение)\n",
    "dct = {'Первый':1, 'Второй':2, 'Третий':3}\n",
    "print (dct.pop('Первый', 'Значение по умолчанию'))\n",
    "print (dct.pop('Десятый', 'Значение по умолчанию'))"
   ]
  },
  {
   "cell_type": "code",
   "execution_count": 32,
   "metadata": {},
   "outputs": [
    {
     "name": "stdout",
     "output_type": "stream",
     "text": [
      "('Третий', 3)\n",
      "{'Первый': 1, 'Второй': 2}\n"
     ]
    }
   ],
   "source": [
    "# Удаляем последнее значение в словаре и возвращаем пару: ключ, значение. Если словарь пуст, бросает исключение KeyError.\n",
    "# Нужно помнить, что словарь не упорядочен.\n",
    "dct = {'Первый':1, 'Второй':2, 'Третий':3}\n",
    "print (dct.popitem())\n",
    "print (dct)"
   ]
  },
  {
   "cell_type": "code",
   "execution_count": 34,
   "metadata": {},
   "outputs": [
    {
     "name": "stdout",
     "output_type": "stream",
     "text": [
      "Значение по умолчанию\n",
      "{'Первый': 1, 'Второй': 2, 'Третий': 3, 'Десятый': 'Значение по умолчанию'}\n"
     ]
    }
   ],
   "source": [
    "# Возвращаем значение ключа, но если его нет, не бросает исключение, а создает ключ с значением default (по умолчанию None).\n",
    "dct = {'Первый':1, 'Второй':2, 'Третий':3}\n",
    "print (dct.setdefault('Десятый', 'Значение по умолчанию'))\n",
    "print (dct)"
   ]
  },
  {
   "cell_type": "code",
   "execution_count": 42,
   "metadata": {},
   "outputs": [
    {
     "name": "stdout",
     "output_type": "stream",
     "text": [
      "None\n",
      "{'Первый': -1, 'Второй': 2, 'Третий': 3, 'Четвертый': 4}\n",
      "None\n"
     ]
    }
   ],
   "source": [
    "# Обновляет словарь, добавляя пары (ключ, значение) из other. Существующие ключи перезаписываются.\n",
    "# Возвращает None (не новый словарь!).\n",
    "dct = {'Первый':1, 'Второй':2, 'Третий':3}\n",
    "print (dct.update([('Четвертый', 4), ('Первый', -1)]))\n",
    "print (dct)"
   ]
  },
  {
   "cell_type": "code",
   "execution_count": 43,
   "metadata": {},
   "outputs": [
    {
     "data": {
      "text/plain": [
       "dict_values([1, 2, 3])"
      ]
     },
     "execution_count": 43,
     "metadata": {},
     "output_type": "execute_result"
    }
   ],
   "source": [
    "# Возвращаем значения в словаре\n",
    "dct = {'Первый':1, 'Второй':2, 'Третий':3}\n",
    "dct.values()"
   ]
  },
  {
   "cell_type": "markdown",
   "metadata": {},
   "source": [
    "## Упаковка листов в словарь"
   ]
  },
  {
   "cell_type": "code",
   "execution_count": 3,
   "metadata": {},
   "outputs": [
    {
     "data": {
      "text/plain": [
       "{1: 'Первый', 2: 'Второй', 5: 'Пятый'}"
      ]
     },
     "execution_count": 3,
     "metadata": {},
     "output_type": "execute_result"
    }
   ],
   "source": [
    "lst_key = [1,2,5]\n",
    "lst_value = ['Первый', 'Второй', 'Пятый']\n",
    "dct = dict (zip (lst_key, lst_value))\n",
    "dct"
   ]
  },
  {
   "cell_type": "code",
   "execution_count": null,
   "metadata": {},
   "outputs": [],
   "source": []
  }
 ],
 "metadata": {
  "kernelspec": {
   "display_name": "Python 3",
   "language": "python",
   "name": "python3"
  },
  "language_info": {
   "codemirror_mode": {
    "name": "ipython",
    "version": 3
   },
   "file_extension": ".py",
   "mimetype": "text/x-python",
   "name": "python",
   "nbconvert_exporter": "python",
   "pygments_lexer": "ipython3",
   "version": "3.7.4"
  }
 },
 "nbformat": 4,
 "nbformat_minor": 2
}
