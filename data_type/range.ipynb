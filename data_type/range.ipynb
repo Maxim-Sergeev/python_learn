{
 "cells": [
  {
   "cell_type": "markdown",
   "metadata": {},
   "source": [
    "# Диапазон. range\n",
    "Тип range (диапазон) является встроенной разновидностью данных в языке Python, которая предназначена для хранения информации об арифметической прогрессии целых чисел. Для ее генерации используется одноименная функция range с тремя различными параметрами. Диапазон обеспечивает комфортную работу с коллекциями при их циклической обработке.\n",
    "\n",
    "Диапазон представляет собой неизменяемую последовательность целых чисел, которая чаще всего применяется для генерации более сложных наборов данных при помощи генераторов. Но в отличие от списков, кортежей, а также других стандартных коллекций, для обработки такого объекта всегда требуется одинаково малое количество памяти. Благодаря особому подходу к хранению данных, в память записываются не все элементы последовательности, а только ее длина, шаг и стартовая точка. Остальные данные вычисляются по мере необходимости.\n",
    "## Создание диапазона"
   ]
  },
  {
   "cell_type": "code",
   "execution_count": 2,
   "metadata": {},
   "outputs": [
    {
     "name": "stdout",
     "output_type": "stream",
     "text": [
      "range(0, 5)\n"
     ]
    }
   ],
   "source": [
    "print(range(5))"
   ]
  },
  {
   "cell_type": "code",
   "execution_count": 5,
   "metadata": {},
   "outputs": [
    {
     "name": "stdout",
     "output_type": "stream",
     "text": [
      "[0, 10, 20, 30, 40, 50, 60, 70, 80, 90]\n"
     ]
    }
   ],
   "source": [
    "# В функции range можно пердать начало, конец и шаг дипазона\n",
    "rng = range(0,100,10)\n",
    "print (list(rng))"
   ]
  },
  {
   "cell_type": "code",
   "execution_count": 6,
   "metadata": {},
   "outputs": [
    {
     "name": "stdout",
     "output_type": "stream",
     "text": [
      "0\n",
      "10\n",
      "20\n",
      "30\n",
      "40\n",
      "50\n",
      "60\n",
      "70\n",
      "80\n",
      "90\n"
     ]
    }
   ],
   "source": [
    "# Применение range в цикле\n",
    "for x in range(0,100,10):\n",
    "    print(x)"
   ]
  },
  {
   "cell_type": "markdown",
   "metadata": {},
   "source": [
    "## Объединение диапазонов\n",
    "В Python нет встроенной функции для объединения результатов двух результатов range(). Тем не менее, мы все еще можем сделать это.\n",
    "Существует модуль с именем 'itertools', который имеет функцию chain() для объединения двух объектов диапазона."
   ]
  },
  {
   "cell_type": "code",
   "execution_count": 11,
   "metadata": {},
   "outputs": [
    {
     "name": "stdout",
     "output_type": "stream",
     "text": [
      "[0, 1, 2, 3, 4, 5, 6, 7, 8, 9, 10, 11, 12, 13, 14, 15, 16, 17, 18, 19]\n"
     ]
    }
   ],
   "source": [
    "rng1 = range(0,10)\n",
    "rng2 = range(10,20)\n",
    "from itertools import chain\n",
    "merged = chain(rng1, rng2)\n",
    "print(list(merged))"
   ]
  },
  {
   "cell_type": "code",
   "execution_count": null,
   "metadata": {},
   "outputs": [],
   "source": []
  }
 ],
 "metadata": {
  "kernelspec": {
   "display_name": "Python 3",
   "language": "python",
   "name": "python3"
  },
  "language_info": {
   "codemirror_mode": {
    "name": "ipython",
    "version": 3
   },
   "file_extension": ".py",
   "mimetype": "text/x-python",
   "name": "python",
   "nbconvert_exporter": "python",
   "pygments_lexer": "ipython3",
   "version": "3.7.4"
  }
 },
 "nbformat": 4,
 "nbformat_minor": 2
}
