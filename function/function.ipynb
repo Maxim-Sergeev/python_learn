{
 "cells": [
  {
   "cell_type": "markdown",
   "metadata": {},
   "source": [
    "# Функции\n",
    "Функции представляют блок кода, который выполняет определенную задачу и который можно повторно использовать в других частях программы. Определение функции начинается с выражения def, которое состоит из имени функции, набора скобок с параметрами и двоеточия. Параметры в скобках необязательны. А со следующей строки идет блок инструкций, которые выполняет функция. Все инструкции функции имеют отступы от начала строки.\n",
    "\n",
    "Каждая функция выдает определенный результат (return). Если вы не указываете на выдачу конкретного результата, она, тем не менее, выдаст результат None (ничего)."
   ]
  },
  {
   "cell_type": "markdown",
   "metadata": {},
   "source": [
    "## Создание и вызов функции"
   ]
  },
  {
   "cell_type": "code",
   "execution_count": 90,
   "metadata": {},
   "outputs": [
    {
     "name": "stdout",
     "output_type": "stream",
     "text": [
      "Hello\n"
     ]
    }
   ],
   "source": [
    "def hello():\n",
    "    print(\"Hello\")\n",
    "hello ()"
   ]
  },
  {
   "cell_type": "markdown",
   "metadata": {},
   "source": [
    "## Параметры функции\n",
    "Параметры определяются в скобках после названия функции, чтобы определить параметры по умолчанию используется символ \"=\"."
   ]
  },
  {
   "cell_type": "code",
   "execution_count": 91,
   "metadata": {},
   "outputs": [
    {
     "name": "stdout",
     "output_type": "stream",
     "text": [
      "Hello, Петя\n",
      "Hello, Юра\n"
     ]
    }
   ],
   "source": [
    "def func(name = \"Петя\"):\n",
    "    print(\"Hello,\", name)\n",
    "func ()\n",
    "func ('Юра')"
   ]
  },
  {
   "cell_type": "markdown",
   "metadata": {},
   "source": [
    "Можно при вызове функции напрямую указывать именна переменных, которые мы передаем. При этом порядок переменных не важен."
   ]
  },
  {
   "cell_type": "code",
   "execution_count": 92,
   "metadata": {},
   "outputs": [
    {
     "name": "stdout",
     "output_type": "stream",
     "text": [
      "Hello Петя\n",
      "Привет Петя\n"
     ]
    }
   ],
   "source": [
    "def func(name = \"Петя\", first = \"Hello\"):\n",
    "    print(first, name)\n",
    "func ()\n",
    "func (first='Привет')"
   ]
  },
  {
   "cell_type": "markdown",
   "metadata": {},
   "source": [
    "### Неопределенное количество параметров\n",
    "С помощью символа звездочки можно определить неопределенное количество параметров. Тип пременной в которой содержаться параметры внутри функции - кортеж."
   ]
  },
  {
   "cell_type": "code",
   "execution_count": 93,
   "metadata": {},
   "outputs": [
    {
     "name": "stdout",
     "output_type": "stream",
     "text": [
      "(1, 2, 3, 'Вася')\n",
      "<class 'tuple'>\n"
     ]
    }
   ],
   "source": [
    "def func(*args):\n",
    "    return args\n",
    "print (func(1,2,3,'Вася'))\n",
    "print (type(func(1,2,3,'Вася')))"
   ]
  },
  {
   "cell_type": "markdown",
   "metadata": {},
   "source": [
    "Функция может принимать и произвольное число именованных аргументов, тогда перед именем ставится \\*\\*.Тип пременной в которой содержаться параметры внутри функции - словарь."
   ]
  },
  {
   "cell_type": "code",
   "execution_count": 94,
   "metadata": {},
   "outputs": [
    {
     "name": "stdout",
     "output_type": "stream",
     "text": [
      "{'a': 1, 'b': 2, 'c': 3}\n",
      "<class 'dict'>\n"
     ]
    }
   ],
   "source": [
    "def func(**kwargs):\n",
    "    return kwargs\n",
    "print(func(a=1, b=2, c=3))\n",
    "print(type(func(a=1, b=2, c=3)))"
   ]
  },
  {
   "cell_type": "code",
   "execution_count": 95,
   "metadata": {},
   "outputs": [
    {
     "name": "stdout",
     "output_type": "stream",
     "text": [
      "<class 'tuple'> (1, 2, 3)\n",
      "<class 'dict'> {'name': 'Mike', 'job': 'programmer'}\n"
     ]
    }
   ],
   "source": [
    "def func(*args, **kwargs):\n",
    "    print(type(args), args)\n",
    "    print(type(kwargs),kwargs)\n",
    "func(1, 2, 3, name=\"Mike\", job=\"programmer\")"
   ]
  },
  {
   "cell_type": "markdown",
   "metadata": {},
   "source": [
    "## Определение шаблона функции\n",
    "Иногда, когда вы пишете какой-нибудь код, вам нужно просто ввести определения функции, которое не содержит в себе код. Я сделал небольшой набросок, который поможет вам увидеть, каким будет ваше приложение.\n",
    "\n",
    "Оператор pass. Это пустая операция, это означает, что когда оператор pass выполняется, не происходит ничего."
   ]
  },
  {
   "cell_type": "code",
   "execution_count": 96,
   "metadata": {},
   "outputs": [],
   "source": [
    "def func():\n",
    "    pass"
   ]
  },
  {
   "cell_type": "markdown",
   "metadata": {},
   "source": [
    "## Область видимость и глобальные переменные\n",
    "Область видимости указывает нам, когда и где переменная может быть использована. Если мы определяем переменные внутри функции, эти переменные могут быть использованы только внутри это функции. При этом если переменная есть как внутри функции, так и снаружи то впервую очередь в функции будет использована ее переменная, если в функции используется переменная, которая в ней не определена, тогда подключаються глобальные переменные."
   ]
  },
  {
   "cell_type": "code",
   "execution_count": 97,
   "metadata": {},
   "outputs": [
    {
     "name": "stdout",
     "output_type": "stream",
     "text": [
      "__main__\n"
     ]
    }
   ],
   "source": [
    "print (__name__)"
   ]
  },
  {
   "cell_type": "markdown",
   "metadata": {},
   "source": [
    "## if \\_\\_name\\_\\_ == \"\\_\\_main\\_\\_\"\n",
    "Основное назначение данной конструкции разделение кода, который будет выполнятся при вызове кода как модуля (при импортировании его в другой скрипт) — и при запуске самого модуля, как отдельного файла.\n",
    "\n",
    "Создадим файл foo.py со следующим содержанием:"
   ]
  },
  {
   "cell_type": "code",
   "execution_count": 100,
   "metadata": {},
   "outputs": [
    {
     "name": "stdout",
     "output_type": "stream",
     "text": [
      "Я работаю как независимая программа с именем = __main__\n"
     ]
    }
   ],
   "source": [
    "if __name__ == \"__main__\":\n",
    "    def prt():\n",
    "        print('Я работаю как независимая программа с именем = %s' % __name__)\n",
    "else:\n",
    "    def prt():\n",
    "        print('Я работаю как импортирвоанный файл с именем = %s' % __name__)\n",
    "prt()"
   ]
  },
  {
   "cell_type": "code",
   "execution_count": 101,
   "metadata": {},
   "outputs": [
    {
     "name": "stdout",
     "output_type": "stream",
     "text": [
      "Я работаю как импортирвоанный файл с именем = foo\n"
     ]
    }
   ],
   "source": [
    "del (prt)\n",
    "## Если импортировать данный файл мы получим следующее:\n",
    "import foo\n",
    "dir (foo)\n",
    "foo.prt()"
   ]
  }
 ],
 "metadata": {
  "kernelspec": {
   "display_name": "Python 3",
   "language": "python",
   "name": "python3"
  },
  "language_info": {
   "codemirror_mode": {
    "name": "ipython",
    "version": 3
   },
   "file_extension": ".py",
   "mimetype": "text/x-python",
   "name": "python",
   "nbconvert_exporter": "python",
   "pygments_lexer": "ipython3",
   "version": "3.7.4"
  }
 },
 "nbformat": 4,
 "nbformat_minor": 2
}
