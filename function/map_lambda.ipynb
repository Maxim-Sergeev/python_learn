{
 "cells": [
  {
   "cell_type": "markdown",
   "metadata": {},
   "source": [
    "## Map.\n",
    "\n",
    "Принимает функцию и аргумент составного типа данных. Применяет переданную функцию к каждому элементу.\n",
    "\n",
    "Синтаксис: list(map(функция, последовательность))"
   ]
  },
  {
   "cell_type": "code",
   "execution_count": 21,
   "metadata": {},
   "outputs": [
    {
     "name": "stdout",
     "output_type": "stream",
     "text": [
      "1\n",
      "4\n",
      "9\n"
     ]
    }
   ],
   "source": [
    "def f(x):\n",
    "    return x*x\n",
    "nums = [1, 2, 3]\n",
    "for num in nums:\n",
    "    print(f(num))"
   ]
  },
  {
   "cell_type": "markdown",
   "metadata": {},
   "source": [
    "Более опытный нуб изучивший list comprehensions :"
   ]
  },
  {
   "cell_type": "code",
   "execution_count": 22,
   "metadata": {},
   "outputs": [
    {
     "name": "stdout",
     "output_type": "stream",
     "text": [
      "[1, 4, 9]\n"
     ]
    }
   ],
   "source": [
    "nums = [1, 2, 3]\n",
    "def f(x):\n",
    "    return x*x\n",
    "print([f(num) for num in nums])"
   ]
  },
  {
   "cell_type": "markdown",
   "metadata": {},
   "source": [
    "Функция map позволяет сделать проще:"
   ]
  },
  {
   "cell_type": "code",
   "execution_count": 23,
   "metadata": {},
   "outputs": [
    {
     "name": "stdout",
     "output_type": "stream",
     "text": [
      "[1, 4, 9]\n"
     ]
    }
   ],
   "source": [
    "nums = [1, 2, 3]\n",
    "def f(x):\n",
    "    return x*x\n",
    "print(list(map(f, nums)))"
   ]
  },
  {
   "cell_type": "code",
   "execution_count": 24,
   "metadata": {},
   "outputs": [
    {
     "name": "stdout",
     "output_type": "stream",
     "text": [
      "[3, 12, 20]\n"
     ]
    }
   ],
   "source": [
    "# Можно также передавать несколько параметров\n",
    "def f(x, y):    \n",
    "    return x*y\n",
    "a = [1,3,4]\n",
    "b = [3,4,5]\n",
    "print(list(map(f, a, b)))"
   ]
  },
  {
   "cell_type": "markdown",
   "metadata": {},
   "source": [
    "## Lamda\n",
    "Они используются когда вам необходимо определить функцию без исподьзования def func_name(): ..., ведь часто (как в предыдущих примерах) функция настолько мала, что определять её отдельно смыла нет (лишние строчки кода, что ухудшение читабельность). Поэтому функцию можно определить “на месте” f = lambda x: x*x как бы говорит нам – принимает x, возвращает x*x\n",
    "\n",
    "Это функция выраженная в одну строку. Удобно использовать, вместо коротких редко используемых функций.\n",
    "\n",
    "Имеет синтаксис: lambda arguments: expression - аргументы: действие"
   ]
  },
  {
   "cell_type": "code",
   "execution_count": 25,
   "metadata": {},
   "outputs": [
    {
     "name": "stdout",
     "output_type": "stream",
     "text": [
      "[1, 4, 9]\n"
     ]
    }
   ],
   "source": [
    "# Лямбда функция с одной переменной\n",
    "nums = [1, 2, 3]\n",
    "print(list(map(lambda x: x*x, nums)))"
   ]
  },
  {
   "cell_type": "code",
   "execution_count": 26,
   "metadata": {},
   "outputs": [
    {
     "name": "stdout",
     "output_type": "stream",
     "text": [
      "[2, 2, 4, 6]\n"
     ]
    }
   ],
   "source": [
    "# Лямбда функция с двумя переменными\n",
    "a = [0,1,2,3]\n",
    "b = [2,2,2,2]\n",
    "print(list(map(lambda x,y: y*(x if x!=0 else 1), a, b)))"
   ]
  },
  {
   "cell_type": "markdown",
   "metadata": {},
   "source": [
    "## Filter\n",
    "Функция фильтрации составного типа данных по признаку передаваемой функции.\n",
    "\n",
    "Синтаксис: list(filter(функция, последовательность))"
   ]
  },
  {
   "cell_type": "code",
   "execution_count": 27,
   "metadata": {},
   "outputs": [
    {
     "name": "stdout",
     "output_type": "stream",
     "text": [
      "[1, 1]\n"
     ]
    }
   ],
   "source": [
    "a = [0,1,2,3,1]\n",
    "print(list(filter(lambda x: x == 1, a)))"
   ]
  },
  {
   "cell_type": "markdown",
   "metadata": {},
   "source": [
    "## Reduce\n",
    "Принимает функцию и последовательность. Последовательно применяет функцию к элементам списка.\n",
    "\n",
    "Синтаксис: functools.reduce(функция, последовательность)"
   ]
  },
  {
   "cell_type": "code",
   "execution_count": 28,
   "metadata": {},
   "outputs": [
    {
     "name": "stdout",
     "output_type": "stream",
     "text": [
      "6\n"
     ]
    }
   ],
   "source": [
    "import functools\n",
    "a = [0,1,2,3]\n",
    "sum = functools.reduce(lambda x,y: x + y, a)\n",
    "print (sum)"
   ]
  },
  {
   "cell_type": "markdown",
   "metadata": {},
   "source": [
    "## Zip\n",
    "Объединяет переданные последовательности в кортежи.\n",
    "\n",
    "Синтаксис: list(zip(последовательность_1, последовательность_2))"
   ]
  },
  {
   "cell_type": "code",
   "execution_count": 20,
   "metadata": {},
   "outputs": [
    {
     "data": {
      "text/plain": [
       "[(1, 'Первый'), (2, 'Второй'), (5, 'Пятый')]"
      ]
     },
     "execution_count": 20,
     "metadata": {},
     "output_type": "execute_result"
    }
   ],
   "source": [
    "lst_key = [1,2,5]\n",
    "lst_value = ['Первый', 'Второй', 'Пятый']\n",
    "dct = list(zip(lst_key, lst_value))\n",
    "dct"
   ]
  },
  {
   "cell_type": "code",
   "execution_count": null,
   "metadata": {},
   "outputs": [],
   "source": []
  }
 ],
 "metadata": {
  "kernelspec": {
   "display_name": "Python 3",
   "language": "python",
   "name": "python3"
  },
  "language_info": {
   "codemirror_mode": {
    "name": "ipython",
    "version": 3
   },
   "file_extension": ".py",
   "mimetype": "text/x-python",
   "name": "python",
   "nbconvert_exporter": "python",
   "pygments_lexer": "ipython3",
   "version": "3.7.4"
  }
 },
 "nbformat": 4,
 "nbformat_minor": 2
}
